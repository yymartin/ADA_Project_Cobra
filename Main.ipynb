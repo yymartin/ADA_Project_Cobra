{
 "cells": [
  {
   "cell_type": "markdown",
   "metadata": {},
   "source": [
    "# A time Story of offshore Societies"
   ]
  },
  {
   "cell_type": "markdown",
   "metadata": {},
   "source": [
    "You can see the aim of this project in the README file.\n",
    "\n",
    "Our work is based on 4 databases, namely the *bahamas leaks*, the *panama papers*, the *offshore leaks* and the *paradise papers*. They all contain csv files with all the data of a graph : nodes (one file for each type of node), and edges. We merged all these files in this notebook.\n",
    "\n",
    "You will see all the steps of our data exploration. In the end our objective is to arrive to two Dataframe, one containing all the nodes and the relevant information, and one containing the edges with relevant information."
   ]
  },
  {
   "cell_type": "markdown",
   "metadata": {},
   "source": [
    "## Imports"
   ]
  },
  {
   "cell_type": "code",
   "execution_count": 1,
   "metadata": {},
   "outputs": [],
   "source": [
    "import pandas as pd\n",
    "import numpy as np\n",
    "import networkx as nx #For graphs\n",
    "import copy\n",
    "import warnings\n",
    "from datetime import *\n",
    "import dateutil.parser\n",
    "warnings.filterwarnings(\"ignore\")\n",
    "import folium\n",
    "import json\n",
    "from folium import IFrame\n",
    "import base64\n",
    "\n",
    "import matplotlib.pyplot as plt\n",
    "\n",
    "# https://www.occrp.org/en/panamapapers/database\n",
    "# TRUMP OFFSHORE INC. is good example to see all entities interacting"
   ]
  },
  {
   "cell_type": "markdown",
   "metadata": {},
   "source": [
    "## Filenames / paths\n",
    "\n",
    "The data is separated for every leak source. For each leak source there is a folder containing the nodes of the graph, that can be of different types : <i>intermediary, officer, entity, address</i> (and <i>other</i> for paradise papers only). The folder also contains the edges of this graph."
   ]
  },
  {
   "cell_type": "code",
   "execution_count": 2,
   "metadata": {},
   "outputs": [],
   "source": [
    "bahamas_folder = \"bahamas/\"\n",
    "panama_folder = \"panama/\"\n",
    "paradise_folder = \"paradise/\"\n",
    "offshore_folder = \"offshore/\"\n",
    "\n",
    "sources_names = ['bahamas', 'panama', 'paradise', 'offshore']\n",
    "\n",
    "panama_name = panama_folder + \"panama_papers\"\n",
    "paradise_name = paradise_folder + \"paradise_papers\"\n",
    "offshore_name = offshore_folder + \"offshore_leaks\"\n",
    "bahamas_name = bahamas_folder + \"bahamas_leaks\"\n",
    "\n",
    "edges_name = \".edges\"\n",
    "nodes_name = \".nodes.\"\n",
    "\n",
    "address_name = \"address\"\n",
    "intermediary_name = \"intermediary\"\n",
    "officer_name = \"officer\"\n",
    "entity_name = \"entity\"\n",
    "others_name = \"other\" # Only for paradise paper there is this extra entity\n",
    "\n",
    "usual_entity_names = [address_name, intermediary_name, officer_name, entity_name]"
   ]
  },
  {
   "cell_type": "markdown",
   "metadata": {},
   "source": [
    "## Build local storage\n",
    "\n",
    "We store data in dictionnaries that map each leak source to its content, which is a dictionnary that maps each type of entity to the Dataframe containing its values. For example <b>d_sources[\"bahamas\"][\"officer\"]</b> is the Dataframe of officers coming from the bahamas leaks."
   ]
  },
  {
   "cell_type": "code",
   "execution_count": 3,
   "metadata": {},
   "outputs": [],
   "source": [
    "def my_read_csv(filename) :\n",
    "    \"\"\" To have same rules when reading data from csv \"\"\"\n",
    "    return pd.read_csv(filename, dtype = str)\n",
    "\n",
    "def build_dict(source_name):\n",
    "    \"\"\"\n",
    "    Create a dictionnary for a certain source_name (among : Panama papers, Paradise papers...)\n",
    "    that maps to each entity name (among : Officer, Intermediary, Address...)\n",
    "    the content of the csv from source_name for this entity\n",
    "    \"\"\"\n",
    "    d = {en : my_read_csv(source_name + nodes_name + en + \".csv\") for en in usual_entity_names}\n",
    "    \n",
    "    if source_name == paradise_name: # Extra \"other\" entity in paradise papers\n",
    "        d[others_name] = my_read_csv(source_name + nodes_name + others_name + \".csv\")\n",
    "    \n",
    "    #Add edges\n",
    "    d[\"edges\"] = my_read_csv(source_name + edges_name + \".csv\")\n",
    "              \n",
    "    return d"
   ]
  },
  {
   "cell_type": "markdown",
   "metadata": {},
   "source": [
    "Build the dictionnary, that maps each source to its content"
   ]
  },
  {
   "cell_type": "code",
   "execution_count": 4,
   "metadata": {},
   "outputs": [],
   "source": [
    "d_sources = dict()\n",
    "d_sources[\"bahamas\"] = build_dict(bahamas_name)\n",
    "d_sources[\"panama\"] = build_dict(panama_name)\n",
    "d_sources[\"paradise\"] = build_dict(paradise_name)\n",
    "d_sources[\"offshore\"] = build_dict(offshore_name)"
   ]
  },
  {
   "cell_type": "code",
   "execution_count": 5,
   "metadata": {},
   "outputs": [
    {
     "data": {
      "text/plain": [
       "Index(['node_id', 'name', 'jurisdiction', 'jurisdiction_description',\n",
       "       'country_codes', 'countries', 'incorporation_date', 'inactivation_date',\n",
       "       'struck_off_date', 'closed_date', 'ibcRUC', 'status', 'company_type',\n",
       "       'service_provider', 'sourceID', 'valid_until', 'note'],\n",
       "      dtype='object')"
      ]
     },
     "execution_count": 5,
     "metadata": {},
     "output_type": "execute_result"
    }
   ],
   "source": [
    "d_sources['panama']['entity'].columns"
   ]
  },
  {
   "cell_type": "code",
   "execution_count": 6,
   "metadata": {
    "scrolled": false
   },
   "outputs": [],
   "source": [
    "descriptions_to_code = {}\n",
    "code_to_descriptions = {}\n",
    "for source in d_sources.keys():\n",
    "    for type_ in d_sources[source].keys():\n",
    "        cols = d_sources[source][type_].columns\n",
    "        if 'countries' in cols and 'country_codes' in cols:\n",
    "            useful_df = d_sources[source][type_][['countries','country_codes']]\n",
    "            for elem in useful_df.values:\n",
    "                if type(elem[0]) is str:\n",
    "                    if elem[0] not in descriptions_to_code:\n",
    "                        descriptions_to_code[elem[0]] = elem[1]\n",
    "                        code_to_descriptions[elem[1]] = elem[0]\n",
    "        if 'jurisdiction_description' in cols and 'jurisdiction' in cols:\n",
    "            useful_df = d_sources[source][type_][['jurisdiction_description','jurisdiction']]\n",
    "            for elem in useful_df.values:\n",
    "                if type(elem[0]) is str:\n",
    "                    if elem[0] not in descriptions_to_code:\n",
    "                        descriptions_to_code[elem[0]] = elem[1]\n",
    "                        code_to_descriptions[elem[1]] = elem[0]"
   ]
  },
  {
   "cell_type": "code",
   "execution_count": 7,
   "metadata": {},
   "outputs": [],
   "source": [
    "for desc, code in descriptions_to_code.items():\n",
    "    if ';' in desc:\n",
    "        countries = desc.split(';')\n",
    "        codes = code.split(';')\n",
    "        for i in range(len(countries)):\n",
    "            country = countries[i]\n",
    "            c = codes[i]\n",
    "            if country in descriptions_to_code and c != descriptions_to_code[country]:\n",
    "                print(country,c)\n",
    "                \n",
    "for code, desc in code_to_descriptions.items():\n",
    "    if ';' in desc:\n",
    "        countries = desc.split(';')\n",
    "        codes = code.split(';')\n",
    "        for i in range(len(countries)):\n",
    "            country = countries[i]\n",
    "            c = codes[i]\n",
    "            if country in code_to_descriptions and c != code_to_descriptions[country]:\n",
    "                print(country,c)"
   ]
  },
  {
   "cell_type": "code",
   "execution_count": 8,
   "metadata": {},
   "outputs": [],
   "source": [
    "for code, desc in code_to_descriptions.items():\n",
    "    if(desc not in descriptions_to_code or descriptions_to_code[desc] != code):\n",
    "        print(desc)"
   ]
  },
  {
   "cell_type": "code",
   "execution_count": 9,
   "metadata": {},
   "outputs": [
    {
     "name": "stdout",
     "output_type": "stream",
     "text": [
      "VEN Venezuela, Bolivarian Republic of\n",
      "VEN Venezuela\n",
      "----\n",
      "USA United States Of America\n",
      "USA United States\n",
      "----\n",
      "XXX Recorded in leaked files as \"fund\"\n",
      "XXX Not identified\n",
      "----\n",
      "KOR Korea, Republic of\n",
      "KOR South Korea\n",
      "----\n",
      "TWN Taiwan, Province of China\n",
      "TWN Taiwan\n",
      "----\n",
      "VGB Virgin Islands, British\n",
      "VGB British Virgin Islands\n",
      "----\n",
      "COK COK\n",
      "COK Cook Islands\n",
      "----\n",
      "VIR Virgin Islands, U.S.\n",
      "VIR U.S. Virgin Islands\n",
      "----\n",
      "PRK Korea, Democratic People's Republic of\n",
      "PRK North Korea\n",
      "----\n",
      "VGB;COK British Virgin Islands;Cook Islands\n",
      "VGB;COK Virgin Islands, British;Cook Islands\n",
      "----\n"
     ]
    }
   ],
   "source": [
    "correct_name = {}\n",
    "for c1, d1 in code_to_descriptions.items():\n",
    "    for d2, c2 in descriptions_to_code.items():\n",
    "        if c1 == c2 and d1 != d2:\n",
    "            print(c1,d1)\n",
    "            print(c2,d2)\n",
    "            print('----')\n",
    "            correct_name[d1] = d2 \n",
    "            \n",
    "        if c1 != c2 and d1 == d2:\n",
    "            print(c1,d1)\n",
    "            print(c2,d2)    \n",
    "            print('++++')"
   ]
  },
  {
   "cell_type": "code",
   "execution_count": 10,
   "metadata": {},
   "outputs": [],
   "source": [
    "## Uniformise description\n",
    "for source in d_sources.keys():\n",
    "    for type_ in d_sources[source].keys():\n",
    "        cols = d_sources[source][type_].columns\n",
    "        if 'countries' in cols:\n",
    "            if 'countries' in cols:\n",
    "                for i in range(len(d_sources[source][type_])):\n",
    "                    if(d_sources[source][type_]['countries'].loc[i] in correct_name):\n",
    "                        d_sources[source][type_]['countries'].loc[i] = correct_name[d_sources[source][type_]['countries'].loc[i]]\n",
    "        if 'jurisdiction_description' in cols:\n",
    "            for i in range(len(d_sources[source][type_])):\n",
    "                    if(d_sources[source][type_]['jurisdiction_description'].loc[i] in correct_name):\n",
    "                        d_sources[source][type_]['jurisdiction_description'].loc[i] = correct_name[d_sources[source][type_]['jurisdiction_description'].loc[i]]\n",
    "                   "
   ]
  },
  {
   "cell_type": "code",
   "execution_count": 11,
   "metadata": {},
   "outputs": [],
   "source": [
    "descriptions_to_code[np.nan] = np.nan\n",
    "## Uniformise code\n",
    "for source in d_sources.keys():\n",
    "    for type_ in d_sources[source].keys():\n",
    "        cols = d_sources[source][type_].columns\n",
    "        if 'countries' in cols and 'country_codes' in cols:\n",
    "            d_sources[source][type_]['country_codes'] = d_sources[source][type_]['countries'].apply(lambda x: descriptions_to_code[x])\n",
    "        if 'jurisdiction' in cols and 'jurisdiction_description' in cols:\n",
    "            d_sources[source][type_]['jurisdiction'] = d_sources[source][type_]['jurisdiction_description'].apply(lambda x: descriptions_to_code[x])\n",
    "\n",
    "                    "
   ]
  },
  {
   "cell_type": "markdown",
   "metadata": {},
   "source": [
    "## Getting familiar with the data format"
   ]
  },
  {
   "cell_type": "markdown",
   "metadata": {},
   "source": [
    "### Define some coloring for printing\n",
    "\n",
    "Keep the same coloring during the project, it makes data very easily readable once you get familiar with the coloring !"
   ]
  },
  {
   "cell_type": "code",
   "execution_count": 12,
   "metadata": {},
   "outputs": [
    {
     "name": "stdout",
     "output_type": "stream",
     "text": [
      "\u001b[93mbahamas\u001b[0m\n",
      "\u001b[92mparadise\u001b[0m\n",
      "\u001b[91mpanama\u001b[0m\n",
      "\u001b[94moffshore\u001b[0m\n",
      "\u001b[1mUnknown source\u001b[0m\n"
     ]
    }
   ],
   "source": [
    "BOLD = '\\033[1m'\n",
    "BLUE = '\\033[94m'\n",
    "GREEN = '\\033[92m'\n",
    "YELLOW = '\\033[93m'\n",
    "RED = '\\033[91m'\n",
    "END = '\\033[0m'\n",
    "\n",
    "color_dict = dict()\n",
    "color_dict[\"bahamas\"] = YELLOW\n",
    "color_dict[\"paradise\"] = GREEN\n",
    "color_dict[\"panama\"] = RED\n",
    "color_dict[\"offshore\"] = BLUE\n",
    "\n",
    "def color(str):\n",
    "    \"\"\"\n",
    "    Returns the str given in the color of the source it is from \n",
    "    (the str must contain source name)\n",
    "    \"\"\"\n",
    "    for source in color_dict.keys():\n",
    "        if source in str:\n",
    "            return color_dict[source] + str + END \n",
    "        \n",
    "    return BOLD + str + END #Default color is BOLD\n",
    "\n",
    "for name, _ in color_dict.items():\n",
    "    print(color(name))\n",
    "print(color(\"Unknown source\"))"
   ]
  },
  {
   "cell_type": "markdown",
   "metadata": {},
   "source": [
    "### See what data source misses which column"
   ]
  },
  {
   "cell_type": "code",
   "execution_count": 13,
   "metadata": {},
   "outputs": [
    {
     "name": "stdout",
     "output_type": "stream",
     "text": [
      "\n",
      " \u001b[93mbahamas\u001b[0m missing columns from source : \u001b[93mbahamas\u001b[0m\n",
      "\n",
      " \u001b[91mpanama\u001b[0m missing columns from source : \u001b[93mbahamas\u001b[0m\n",
      "Node type address misses 10 columns, namely :  ['labels(n)', 'jurisdiction_description', 'service_provider', 'jurisdiction', 'closed_date', 'incorporation_date', 'ibcRUC', 'type', 'status', 'company_type']\n",
      "Node type intermediary misses 10 columns, namely :  ['labels(n)', 'address', 'jurisdiction_description', 'service_provider', 'jurisdiction', 'closed_date', 'incorporation_date', 'ibcRUC', 'type', 'company_type']\n",
      "Node type officer misses 11 columns, namely :  ['labels(n)', 'address', 'jurisdiction_description', 'service_provider', 'jurisdiction', 'closed_date', 'incorporation_date', 'ibcRUC', 'type', 'status', 'company_type']\n",
      "Node type entity misses 3 columns, namely :  ['labels(n)', 'address', 'type']\n",
      "\n",
      " \u001b[92mparadise\u001b[0m missing columns from source : \u001b[93mbahamas\u001b[0m\n",
      "Node type address misses 10 columns, namely :  ['labels(n)', 'jurisdiction_description', 'service_provider', 'jurisdiction', 'closed_date', 'incorporation_date', 'ibcRUC', 'type', 'status', 'company_type']\n",
      "Node type intermediary misses 11 columns, namely :  ['labels(n)', 'address', 'jurisdiction_description', 'service_provider', 'jurisdiction', 'closed_date', 'incorporation_date', 'ibcRUC', 'type', 'status', 'company_type']\n",
      "Node type officer misses 10 columns, namely :  ['labels(n)', 'address', 'jurisdiction_description', 'service_provider', 'jurisdiction', 'closed_date', 'incorporation_date', 'ibcRUC', 'type', 'company_type']\n",
      "Node type entity misses 3 columns, namely :  ['labels(n)', 'address', 'type']\n",
      "\n",
      " \u001b[94moffshore\u001b[0m missing columns from source : \u001b[93mbahamas\u001b[0m\n",
      "Node type address misses 10 columns, namely :  ['labels(n)', 'jurisdiction_description', 'service_provider', 'jurisdiction', 'closed_date', 'incorporation_date', 'ibcRUC', 'type', 'status', 'company_type']\n",
      "Node type intermediary misses 10 columns, namely :  ['labels(n)', 'address', 'jurisdiction_description', 'service_provider', 'jurisdiction', 'closed_date', 'incorporation_date', 'ibcRUC', 'type', 'company_type']\n",
      "Node type officer misses 11 columns, namely :  ['labels(n)', 'address', 'jurisdiction_description', 'service_provider', 'jurisdiction', 'closed_date', 'incorporation_date', 'ibcRUC', 'type', 'status', 'company_type']\n",
      "Node type entity misses 3 columns, namely :  ['labels(n)', 'address', 'type']\n",
      "\n",
      " \u001b[93mbahamas\u001b[0m missing columns from source : \u001b[91mpanama\u001b[0m\n",
      "Node type entity misses 2 columns, namely :  ['inactivation_date', 'struck_off_date']\n",
      "\n",
      " \u001b[91mpanama\u001b[0m missing columns from source : \u001b[91mpanama\u001b[0m\n",
      "\n",
      " \u001b[92mparadise\u001b[0m missing columns from source : \u001b[91mpanama\u001b[0m\n",
      "Node type intermediary misses 1 columns, namely :  ['status']\n",
      "\n",
      " \u001b[94moffshore\u001b[0m missing columns from source : \u001b[91mpanama\u001b[0m\n",
      "\n",
      " \u001b[93mbahamas\u001b[0m missing columns from source : \u001b[92mparadise\u001b[0m\n",
      "Node type entity misses 2 columns, namely :  ['inactivation_date', 'struck_off_date']\n",
      "\n",
      " \u001b[91mpanama\u001b[0m missing columns from source : \u001b[92mparadise\u001b[0m\n",
      "Node type officer misses 1 columns, namely :  ['status']\n",
      "\n",
      " \u001b[92mparadise\u001b[0m missing columns from source : \u001b[92mparadise\u001b[0m\n",
      "\n",
      " \u001b[94moffshore\u001b[0m missing columns from source : \u001b[92mparadise\u001b[0m\n",
      "Node type officer misses 1 columns, namely :  ['status']\n",
      "\n",
      " \u001b[93mbahamas\u001b[0m missing columns from source : \u001b[94moffshore\u001b[0m\n",
      "Node type entity misses 2 columns, namely :  ['inactivation_date', 'struck_off_date']\n",
      "\n",
      " \u001b[91mpanama\u001b[0m missing columns from source : \u001b[94moffshore\u001b[0m\n",
      "\n",
      " \u001b[92mparadise\u001b[0m missing columns from source : \u001b[94moffshore\u001b[0m\n",
      "Node type intermediary misses 1 columns, namely :  ['status']\n",
      "\n",
      " \u001b[94moffshore\u001b[0m missing columns from source : \u001b[94moffshore\u001b[0m\n"
     ]
    }
   ],
   "source": [
    "for source, dict_data in d_sources.items():\n",
    "    for source_compare, dict_data_compare in d_sources.items():\n",
    "        print(\"\\n\", color(source_compare), \"missing columns from source :\", color(source))\n",
    "        for entity in usual_entity_names:\n",
    "            missing_columns = []\n",
    "            for col in dict_data[entity].columns:\n",
    "                if not col in dict_data_compare[entity].columns:\n",
    "                    missing_columns.append(col)\n",
    "            if(len(missing_columns) > 0):\n",
    "                print(\"Node type\", entity, \"misses\", len(missing_columns), \"columns, namely : \", missing_columns)\n"
   ]
  },
  {
   "cell_type": "markdown",
   "metadata": {},
   "source": [
    "We see that <span style=\"color:orange\">bahamas</span> is the most \"complete\" source, in the sense it is the one that has the biggest number of columns missing in the others. We will therefore use it to explore the content of columns. *'inactivation_date'* and  *'struck_off_date'* columns from entity will then be explored in <span style=\"color:red\">panama</span>"
   ]
  },
  {
   "cell_type": "markdown",
   "metadata": {},
   "source": [
    "#### Special case : Paradise paper, <i>other</i> node"
   ]
  },
  {
   "cell_type": "code",
   "execution_count": 14,
   "metadata": {},
   "outputs": [
    {
     "data": {
      "text/plain": [
       "Index(['node_id', 'name', 'country_codes', 'countries', 'sourceID',\n",
       "       'valid_until', 'note'],\n",
       "      dtype='object')"
      ]
     },
     "execution_count": 14,
     "metadata": {},
     "output_type": "execute_result"
    }
   ],
   "source": [
    "d_sources[\"paradise\"][\"other\"].columns"
   ]
  },
  {
   "cell_type": "markdown",
   "metadata": {},
   "source": [
    "### SourceID in different sources\n",
    "\n",
    "We see paradise papers is the only source that has different sourceID"
   ]
  },
  {
   "cell_type": "code",
   "execution_count": 15,
   "metadata": {},
   "outputs": [
    {
     "name": "stdout",
     "output_type": "stream",
     "text": [
      "\n",
      "Source : \u001b[93mbahamas\u001b[0m\n",
      "Node : address 1 different sourceID :\n",
      "Node : intermediary 1 different sourceID :\n",
      "Node : officer 1 different sourceID :\n",
      "Node : entity 1 different sourceID :\n",
      "\n",
      "Source : \u001b[91mpanama\u001b[0m\n",
      "Node : address 1 different sourceID :\n",
      "Node : intermediary 1 different sourceID :\n",
      "Node : officer 1 different sourceID :\n",
      "Node : entity 1 different sourceID :\n",
      "\n",
      "Source : \u001b[92mparadise\u001b[0m\n",
      "Node : address 7 different sourceID :\n",
      "Node : intermediary 5 different sourceID :\n",
      "Node : officer 9 different sourceID :\n",
      "Node : entity 9 different sourceID :\n",
      "\n",
      "Source : \u001b[94moffshore\u001b[0m\n",
      "Node : address 1 different sourceID :\n",
      "Node : intermediary 1 different sourceID :\n",
      "Node : officer 1 different sourceID :\n",
      "Node : entity 1 different sourceID :\n"
     ]
    }
   ],
   "source": [
    "for source, dict_data in d_sources.items():\n",
    "    print(\"\\nSource :\", color(source))\n",
    "    for entity in usual_entity_names:\n",
    "        value_count =  dict_data[entity][\"sourceID\"].value_counts()\n",
    "        print(\"Node :\", entity, len(value_count), \"different sourceID :\")"
   ]
  },
  {
   "cell_type": "markdown",
   "metadata": {},
   "source": [
    "### Check if node_id is a good index for Nodes"
   ]
  },
  {
   "cell_type": "code",
   "execution_count": 16,
   "metadata": {},
   "outputs": [
    {
     "name": "stdout",
     "output_type": "stream",
     "text": [
      "node_id isn't unique between nodes from source \u001b[94moffshore\u001b[0m\n",
      "node_id is unique between unique nodes from all sources\n"
     ]
    }
   ],
   "source": [
    "merged_node_id = pd.Series()\n",
    "\n",
    "for source, dict_data in d_sources.items():\n",
    "    merged_node_id_source = pd.Series()\n",
    "    for entity in usual_entity_names:\n",
    "        \n",
    "        merged_node_id_source = merged_node_id_source.append(dict_data[entity][\"node_id\"], ignore_index = True)\n",
    "        \n",
    "        if not dict_data[entity][\"node_id\"].is_unique:\n",
    "            print(\"node_id isn't unique for source\", color(source, \"node\", entity))\n",
    "                  \n",
    "    if not merged_node_id_source.is_unique:\n",
    "        print(\"node_id isn't unique between nodes from source\", color(source))\n",
    "    \n",
    "    merged_node_id = merged_node_id.append(merged_node_id_source.drop_duplicates())\n",
    "\n",
    "if merged_node_id.is_unique:\n",
    "    print(\"node_id is unique between unique nodes from all sources\")"
   ]
  },
  {
   "cell_type": "markdown",
   "metadata": {},
   "source": [
    "So for each node type indepently node_id is a good index. Therefore (node_id, node_type) could be a good index (node_type being amond officer, intermediary...)\n",
    "\n",
    "Now explore nodes with same node_id in offshore"
   ]
  },
  {
   "cell_type": "code",
   "execution_count": 17,
   "metadata": {},
   "outputs": [
    {
     "name": "stdout",
     "output_type": "stream",
     "text": [
      "\u001b[1maddress\u001b[0m \u001b[1mintermediary\u001b[0m\n",
      "\u001b[1maddress\u001b[0m \u001b[1mofficer\u001b[0m\n",
      "\u001b[1maddress\u001b[0m \u001b[1mentity\u001b[0m\n",
      "\u001b[1mintermediary\u001b[0m \u001b[1mofficer\u001b[0m\n",
      "Intersection of \u001b[1mintermediary\u001b[0m and \u001b[1mofficer\u001b[0m count is :\n",
      "name_intermediary             1139\n",
      "country_codes_intermediary    1139\n",
      "countries_intermediary        1139\n",
      "status                           0\n",
      "sourceID_intermediary         1139\n",
      "valid_until_intermediary      1139\n",
      "note_intermediary                0\n",
      "name_officer                  1139\n",
      "country_codes_officer         1139\n",
      "countries_officer             1139\n",
      "sourceID_officer              1139\n",
      "valid_until_officer           1139\n",
      "note_officer                     0\n",
      "dtype: int64\n",
      "\u001b[1mintermediary\u001b[0m \u001b[1mentity\u001b[0m\n",
      "\u001b[1mofficer\u001b[0m \u001b[1mentity\u001b[0m\n"
     ]
    }
   ],
   "source": [
    "for i in range(len(usual_entity_names)):\n",
    "    for j in range(i+1, len(usual_entity_names)):\n",
    "\n",
    "        left_node = usual_entity_names[i]\n",
    "        node = usual_entity_names[j]\n",
    "        print(color(left_node), color(node))\n",
    "        \n",
    "        if left_node != node:\n",
    "\n",
    "            left = d_sources[\"offshore\"][left_node].set_index(\"node_id\")\n",
    "            right = d_sources[\"offshore\"][node].set_index(\"node_id\")\n",
    "\n",
    "            intersection = left.join(right, on = \"node_id\", how = 'inner', \\\n",
    "                                     lsuffix = \"_\" + left_node,rsuffix = \"_\" + node)\n",
    "\n",
    "            if not intersection.empty:\n",
    "                print(\"Intersection of\", color(left_node), \"and\", color(node), \"count is :\")\n",
    "                print(intersection.count())"
   ]
  },
  {
   "cell_type": "markdown",
   "metadata": {},
   "source": [
    "So the intersection on offshore is between officer and intermediary nodes. Let's see if they are the same values :"
   ]
  },
  {
   "cell_type": "code",
   "execution_count": 18,
   "metadata": {},
   "outputs": [
    {
     "data": {
      "text/plain": [
       "True"
      ]
     },
     "execution_count": 18,
     "metadata": {},
     "output_type": "execute_result"
    }
   ],
   "source": [
    "left = d_sources[\"offshore\"][\"officer\"].set_index(\"node_id\")\n",
    "right = d_sources[\"offshore\"][\"intermediary\"].set_index(\"node_id\")\n",
    "\n",
    "intersection = left.join(right, on = \"node_id\", how = 'inner', lsuffix = \"_officer\",rsuffix = \"_interm\")\n",
    "\n",
    "intersection.loc[intersection[\"name_officer\"] != intersection[\"name_interm\"]].empty"
   ]
  },
  {
   "cell_type": "markdown",
   "metadata": {},
   "source": [
    "Therefore we understand that if someone appears in two different node types, it means it is the same person, but has two roles. This is why in further analysis we will store the pair (node_id, role) as index, because it is unique. We have to add a column to nodes, containing the node type, let's call it label. We saw in the column exploration that bahamas has an equivalent column *labels(n)*, that the other's don't, we'll rename it to *label*"
   ]
  },
  {
   "cell_type": "markdown",
   "metadata": {},
   "source": [
    "## Keep necessary columns, Shape data to our need"
   ]
  },
  {
   "cell_type": "code",
   "execution_count": null,
   "metadata": {},
   "outputs": [],
   "source": [
    "d_clean = dict()\n",
    "\n",
    "#maps every node type to the columns to keep\n",
    "d_columns = dict()\n",
    "d_columns['address'] = ['country_codes', 'node_id']\n",
    "d_columns['entity'] = ['node_id','name','jurisdiction','incorporation_date']\n",
    "d_columns['intermediary'] = ['node_id', 'country_codes','name']\n",
    "d_columns['officer'] = ['node_id', 'country_codes','name']\n",
    "d_columns['other'] = ['node_id', 'country_codes','name']\n",
    "\n",
    "\n",
    "for source, d in d_sources.items():\n",
    "    \n",
    "    d_clean[source] = dict()\n",
    "    \n",
    "    for node_type in usual_entity_names:\n",
    "        d_clean[source][node_type] = d[node_type][d_columns[node_type]]\n",
    "        d_clean[source][node_type]['source'] = source\n",
    "        d_clean[source][node_type]['type'] = node_type\n",
    "        d_clean[source][node_type]['node_id'] = d_clean[source][node_type]['node_id'].astype(np.int32)\n",
    "    \n",
    "    columns_edges = ['START_ID', 'END_ID', 'TYPE', 'start_date', 'end_date']        \n",
    "    columns_edges_bahamas = ['node_1', 'node_2', 'rel_type', 'start_date', 'end_date']    \n",
    "    \n",
    "    if source == \"bahamas\": # adapt different column names\n",
    "        d_clean[source]['edges'] = d_sources[source]['edges'][columns_edges_bahamas]\n",
    "        d_clean[source]['edges'].columns = columns_edges\n",
    "        \n",
    "    else :\n",
    "        d_clean[source]['edges'] = d_sources[source]['edges'][columns_edges]\n",
    "    \n",
    "    d_clean[source]['edges']['source'] = source\n",
    "    d_clean[source]['edges'][\"START_ID\"] = d_clean[source]['edges'][\"START_ID\"].astype(np.int32)\n",
    "    d_clean[source]['edges'][\"END_ID\"] = d_clean[source]['edges'][\"END_ID\"].astype(np.int32) \n",
    "\n",
    "d_clean['paradise']['other'] = d_sources['paradise']['other'][d_columns['other']]\n",
    "d_clean[\"paradise\"]['other']['source'] = 'paradise'\n",
    "d_clean[\"paradise\"]['other']['type'] = 'other'"
   ]
  },
  {
   "cell_type": "markdown",
   "metadata": {},
   "source": [
    "## Create and study *node* dataframe"
   ]
  },
  {
   "cell_type": "markdown",
   "metadata": {},
   "source": [
    "A pourcentage function to print pourcentages in a nice way"
   ]
  },
  {
   "cell_type": "code",
   "execution_count": null,
   "metadata": {},
   "outputs": [],
   "source": [
    "def pourcentage(n, precision = 2):\n",
    "    \"\"\" To print a pourcentage in a nice way and with a given precision\"\"\"\n",
    "    return color((\"%.\" + str(precision) + \"f\") % (100.0*n) + \"%\")"
   ]
  },
  {
   "cell_type": "markdown",
   "metadata": {},
   "source": [
    "A function to convert string of date to datetime format. There are a LOT of different string formats and we cover most of them. Dates with ambiguity such as 01/03/2001 are treated arbitrarily. (i.e. is this date 1st of March or 3rd of January ?) Indeed the year is generally what matters the most for us.\n",
    "\n",
    "Years are valid until 2015 at most, and starting in the 1960s according to wikipedia (https://en.wikipedia.org/wiki/Panama_Papers)\n",
    "\n",
    "When date is clearly an outlier (18/19/2006), it is set to NaN, and printed"
   ]
  },
  {
   "cell_type": "code",
   "execution_count": null,
   "metadata": {},
   "outputs": [],
   "source": [
    "def parse_date(date):\n",
    "    \"\"\" Parsing of the date, read above for more details\"\"\"\n",
    "    if (date==date):\n",
    "        try:\n",
    "            formatted = dateutil.parser.parse(date)\n",
    "            if (formatted.year > 2015 or formatted.year < 1960):\n",
    "                formatted = 'NaN'\n",
    "            return formatted \n",
    "        except:\n",
    "            print(date)\n",
    "            return 'NaN'"
   ]
  },
  {
   "cell_type": "markdown",
   "metadata": {},
   "source": [
    "### Node types that should contain NaN for each column name\n",
    "\n",
    "Nodes can have NaN values because of missing data, <b>or</b> because the data doesn't make sense for this node type. You will here find a list of node types for each column, those are node types that are NaN because of this second reason. For example the jurisdiction for an Officer doesn't really make sense at first sight... We will however in the future try to cumpute all the jurisdictions an officer is related to using the edges (and many more)\n",
    "\n",
    "##### name\n",
    "- Address\n",
    "\n",
    "##### jurisdiction and incorporation_date\n",
    "- Officer\n",
    "- Other\n",
    "- Intermediary\n",
    "- Address\n",
    "\n",
    "##### country_codes\n",
    "- Entity\n"
   ]
  },
  {
   "cell_type": "code",
   "execution_count": null,
   "metadata": {},
   "outputs": [],
   "source": [
    "nodes = pd.DataFrame(columns=['node_id','source','type','name','country_codes', 'jurisdiction', 'incorporation_date'])\n",
    "\n",
    "for source,_ in d_sources.items():\n",
    "    for node_type in usual_entity_names:\n",
    "        nodes = nodes.append(d_clean[source][node_type], sort=False)\n",
    "#nodes = nodes.append(d_clean['paradise']['other'], sort=False) # Uncomment to consider other nodes\n",
    "\n",
    "nodes.node_id = pd.to_numeric(nodes.node_id, downcast='integer')\n",
    "\n",
    "nodes['incorporation_date'] = nodes['incorporation_date'].apply(parse_date)\n",
    "nodes['incorporation_date'] = pd.to_datetime(nodes['incorporation_date'])\n",
    "\n",
    "nodes[nodes['country_codes'] == 'XXX']['country_codes'] = None\n",
    "nodes[nodes['jurisdiction'] == 'XXX']['jurisdiction'] = None\n",
    "\n",
    "nodes_ = nodes.copy()\n",
    "nodes = nodes.set_index(['node_id', 'type'])"
   ]
  },
  {
   "cell_type": "markdown",
   "metadata": {},
   "source": [
    "It looks like there are a lot of unique country_codes... Indeed we notice some nodes have many country codes separated by a ';'"
   ]
  },
  {
   "cell_type": "code",
   "execution_count": null,
   "metadata": {},
   "outputs": [
    {
     "name": "stdout",
     "output_type": "stream",
     "text": [
      "\u001b[1m4.01%\u001b[0m of nodes with a country_code have a country_code with more than one country\n"
     ]
    }
   ],
   "source": [
    "country_codes = nodes.country_codes.dropna()\n",
    "number_multi_country = country_codes[country_codes.str.contains(\";\")].count()\n",
    "\n",
    "print(pourcentage(number_multi_country/len(country_codes)), \"of nodes with a country_code have a country_code with more than one country\")"
   ]
  },
  {
   "cell_type": "markdown",
   "metadata": {},
   "source": [
    "### Study by node type"
   ]
  },
  {
   "cell_type": "code",
   "execution_count": null,
   "metadata": {},
   "outputs": [
    {
     "data": {
      "text/html": [
       "<div>\n",
       "<style scoped>\n",
       "    .dataframe tbody tr th:only-of-type {\n",
       "        vertical-align: middle;\n",
       "    }\n",
       "\n",
       "    .dataframe tbody tr th {\n",
       "        vertical-align: top;\n",
       "    }\n",
       "\n",
       "    .dataframe thead th {\n",
       "        text-align: right;\n",
       "    }\n",
       "</style>\n",
       "<table border=\"1\" class=\"dataframe\">\n",
       "  <thead>\n",
       "    <tr style=\"text-align: right;\">\n",
       "      <th></th>\n",
       "      <th>source</th>\n",
       "      <th>name</th>\n",
       "      <th>country_codes</th>\n",
       "      <th>jurisdiction</th>\n",
       "      <th>incorporation_date</th>\n",
       "    </tr>\n",
       "  </thead>\n",
       "  <tbody>\n",
       "    <tr>\n",
       "      <th>count</th>\n",
       "      <td>785124</td>\n",
       "      <td>785095</td>\n",
       "      <td>0.0</td>\n",
       "      <td>785124</td>\n",
       "      <td>756095</td>\n",
       "    </tr>\n",
       "    <tr>\n",
       "      <th>unique</th>\n",
       "      <td>4</td>\n",
       "      <td>754951</td>\n",
       "      <td>0.0</td>\n",
       "      <td>61</td>\n",
       "      <td>15558</td>\n",
       "    </tr>\n",
       "    <tr>\n",
       "      <th>top</th>\n",
       "      <td>paradise</td>\n",
       "      <td>DE PALM TOURS N.V. - DE PALM TOURS</td>\n",
       "      <td>NaN</td>\n",
       "      <td>BHS</td>\n",
       "      <td>1998-01-02 00:00:00</td>\n",
       "    </tr>\n",
       "    <tr>\n",
       "      <th>freq</th>\n",
       "      <td>290086</td>\n",
       "      <td>19</td>\n",
       "      <td>NaN</td>\n",
       "      <td>209686</td>\n",
       "      <td>1368</td>\n",
       "    </tr>\n",
       "    <tr>\n",
       "      <th>first</th>\n",
       "      <td>NaN</td>\n",
       "      <td>NaN</td>\n",
       "      <td>NaN</td>\n",
       "      <td>NaN</td>\n",
       "      <td>1960-01-01 00:00:00</td>\n",
       "    </tr>\n",
       "    <tr>\n",
       "      <th>last</th>\n",
       "      <td>NaN</td>\n",
       "      <td>NaN</td>\n",
       "      <td>NaN</td>\n",
       "      <td>NaN</td>\n",
       "      <td>2015-12-31 00:00:00</td>\n",
       "    </tr>\n",
       "  </tbody>\n",
       "</table>\n",
       "</div>"
      ],
      "text/plain": [
       "          source                                name  country_codes  \\\n",
       "count     785124                              785095            0.0   \n",
       "unique         4                              754951            0.0   \n",
       "top     paradise  DE PALM TOURS N.V. - DE PALM TOURS            NaN   \n",
       "freq      290086                                  19            NaN   \n",
       "first        NaN                                 NaN            NaN   \n",
       "last         NaN                                 NaN            NaN   \n",
       "\n",
       "       jurisdiction   incorporation_date  \n",
       "count        785124               756095  \n",
       "unique           61                15558  \n",
       "top             BHS  1998-01-02 00:00:00  \n",
       "freq         209686                 1368  \n",
       "first           NaN  1960-01-01 00:00:00  \n",
       "last            NaN  2015-12-31 00:00:00  "
      ]
     },
     "execution_count": 24,
     "metadata": {},
     "output_type": "execute_result"
    }
   ],
   "source": [
    "nodes.xs('entity', level = 1).describe()"
   ]
  },
  {
   "cell_type": "code",
   "execution_count": null,
   "metadata": {},
   "outputs": [
    {
     "data": {
      "text/html": [
       "<div>\n",
       "<style scoped>\n",
       "    .dataframe tbody tr th:only-of-type {\n",
       "        vertical-align: middle;\n",
       "    }\n",
       "\n",
       "    .dataframe tbody tr th {\n",
       "        vertical-align: top;\n",
       "    }\n",
       "\n",
       "    .dataframe thead th {\n",
       "        text-align: right;\n",
       "    }\n",
       "</style>\n",
       "<table border=\"1\" class=\"dataframe\">\n",
       "  <thead>\n",
       "    <tr style=\"text-align: right;\">\n",
       "      <th></th>\n",
       "      <th>source</th>\n",
       "      <th>name</th>\n",
       "      <th>country_codes</th>\n",
       "      <th>jurisdiction</th>\n",
       "      <th>incorporation_date</th>\n",
       "    </tr>\n",
       "  </thead>\n",
       "  <tbody>\n",
       "    <tr>\n",
       "      <th>count</th>\n",
       "      <td>720862</td>\n",
       "      <td>720800</td>\n",
       "      <td>423666</td>\n",
       "      <td>0.0</td>\n",
       "      <td>0.0</td>\n",
       "    </tr>\n",
       "    <tr>\n",
       "      <th>unique</th>\n",
       "      <td>4</td>\n",
       "      <td>507696</td>\n",
       "      <td>3510</td>\n",
       "      <td>0.0</td>\n",
       "      <td>0.0</td>\n",
       "    </tr>\n",
       "    <tr>\n",
       "      <th>top</th>\n",
       "      <td>paradise</td>\n",
       "      <td>THE BEARER</td>\n",
       "      <td>MLT</td>\n",
       "      <td>NaN</td>\n",
       "      <td>NaN</td>\n",
       "    </tr>\n",
       "    <tr>\n",
       "      <th>freq</th>\n",
       "      <td>350008</td>\n",
       "      <td>70871</td>\n",
       "      <td>44916</td>\n",
       "      <td>NaN</td>\n",
       "      <td>NaN</td>\n",
       "    </tr>\n",
       "  </tbody>\n",
       "</table>\n",
       "</div>"
      ],
      "text/plain": [
       "          source        name country_codes  jurisdiction  incorporation_date\n",
       "count     720862      720800        423666           0.0                 0.0\n",
       "unique         4      507696          3510           0.0                 0.0\n",
       "top     paradise  THE BEARER           MLT           NaN                 NaN\n",
       "freq      350008       70871         44916           NaN                 NaN"
      ]
     },
     "execution_count": 25,
     "metadata": {},
     "output_type": "execute_result"
    }
   ],
   "source": [
    "nodes.xs('officer', level = 1).describe()"
   ]
  },
  {
   "cell_type": "code",
   "execution_count": null,
   "metadata": {},
   "outputs": [
    {
     "data": {
      "text/html": [
       "<div>\n",
       "<style scoped>\n",
       "    .dataframe tbody tr th:only-of-type {\n",
       "        vertical-align: middle;\n",
       "    }\n",
       "\n",
       "    .dataframe tbody tr th {\n",
       "        vertical-align: top;\n",
       "    }\n",
       "\n",
       "    .dataframe thead th {\n",
       "        text-align: right;\n",
       "    }\n",
       "</style>\n",
       "<table border=\"1\" class=\"dataframe\">\n",
       "  <thead>\n",
       "    <tr style=\"text-align: right;\">\n",
       "      <th></th>\n",
       "      <th>source</th>\n",
       "      <th>name</th>\n",
       "      <th>country_codes</th>\n",
       "      <th>jurisdiction</th>\n",
       "      <th>incorporation_date</th>\n",
       "    </tr>\n",
       "  </thead>\n",
       "  <tbody>\n",
       "    <tr>\n",
       "      <th>count</th>\n",
       "      <td>25745</td>\n",
       "      <td>25744</td>\n",
       "      <td>23152</td>\n",
       "      <td>0.0</td>\n",
       "      <td>0.0</td>\n",
       "    </tr>\n",
       "    <tr>\n",
       "      <th>unique</th>\n",
       "      <td>4</td>\n",
       "      <td>24621</td>\n",
       "      <td>285</td>\n",
       "      <td>0.0</td>\n",
       "      <td>0.0</td>\n",
       "    </tr>\n",
       "    <tr>\n",
       "      <th>top</th>\n",
       "      <td>panama</td>\n",
       "      <td>HUTCHINSON GAYLE A.</td>\n",
       "      <td>HKG</td>\n",
       "      <td>NaN</td>\n",
       "      <td>NaN</td>\n",
       "    </tr>\n",
       "    <tr>\n",
       "      <th>freq</th>\n",
       "      <td>14110</td>\n",
       "      <td>62</td>\n",
       "      <td>4895</td>\n",
       "      <td>NaN</td>\n",
       "      <td>NaN</td>\n",
       "    </tr>\n",
       "  </tbody>\n",
       "</table>\n",
       "</div>"
      ],
      "text/plain": [
       "        source                 name country_codes  jurisdiction  \\\n",
       "count    25745                25744         23152           0.0   \n",
       "unique       4                24621           285           0.0   \n",
       "top     panama  HUTCHINSON GAYLE A.           HKG           NaN   \n",
       "freq     14110                   62          4895           NaN   \n",
       "\n",
       "        incorporation_date  \n",
       "count                  0.0  \n",
       "unique                 0.0  \n",
       "top                    NaN  \n",
       "freq                   NaN  "
      ]
     },
     "execution_count": 26,
     "metadata": {},
     "output_type": "execute_result"
    }
   ],
   "source": [
    "nodes.xs('intermediary', level = 1).describe()"
   ]
  },
  {
   "cell_type": "code",
   "execution_count": null,
   "metadata": {},
   "outputs": [
    {
     "data": {
      "text/html": [
       "<div>\n",
       "<style scoped>\n",
       "    .dataframe tbody tr th:only-of-type {\n",
       "        vertical-align: middle;\n",
       "    }\n",
       "\n",
       "    .dataframe tbody tr th {\n",
       "        vertical-align: top;\n",
       "    }\n",
       "\n",
       "    .dataframe thead th {\n",
       "        text-align: right;\n",
       "    }\n",
       "</style>\n",
       "<table border=\"1\" class=\"dataframe\">\n",
       "  <thead>\n",
       "    <tr style=\"text-align: right;\">\n",
       "      <th></th>\n",
       "      <th>source</th>\n",
       "      <th>name</th>\n",
       "      <th>country_codes</th>\n",
       "      <th>jurisdiction</th>\n",
       "      <th>incorporation_date</th>\n",
       "    </tr>\n",
       "  </thead>\n",
       "  <tbody>\n",
       "    <tr>\n",
       "      <th>count</th>\n",
       "      <td>374955</td>\n",
       "      <td>0.0</td>\n",
       "      <td>250105</td>\n",
       "      <td>0.0</td>\n",
       "      <td>0.0</td>\n",
       "    </tr>\n",
       "    <tr>\n",
       "      <th>unique</th>\n",
       "      <td>4</td>\n",
       "      <td>0.0</td>\n",
       "      <td>216</td>\n",
       "      <td>0.0</td>\n",
       "      <td>0.0</td>\n",
       "    </tr>\n",
       "    <tr>\n",
       "      <th>top</th>\n",
       "      <td>paradise</td>\n",
       "      <td>NaN</td>\n",
       "      <td>CHN</td>\n",
       "      <td>NaN</td>\n",
       "      <td>NaN</td>\n",
       "    </tr>\n",
       "    <tr>\n",
       "      <th>freq</th>\n",
       "      <td>223350</td>\n",
       "      <td>NaN</td>\n",
       "      <td>31984</td>\n",
       "      <td>NaN</td>\n",
       "      <td>NaN</td>\n",
       "    </tr>\n",
       "  </tbody>\n",
       "</table>\n",
       "</div>"
      ],
      "text/plain": [
       "          source  name country_codes  jurisdiction  incorporation_date\n",
       "count     374955   0.0        250105           0.0                 0.0\n",
       "unique         4   0.0           216           0.0                 0.0\n",
       "top     paradise   NaN           CHN           NaN                 NaN\n",
       "freq      223350   NaN         31984           NaN                 NaN"
      ]
     },
     "execution_count": 27,
     "metadata": {},
     "output_type": "execute_result"
    }
   ],
   "source": [
    "nodes.xs('address', level = 1).describe()"
   ]
  },
  {
   "cell_type": "markdown",
   "metadata": {},
   "source": [
    "## Create and study *edges* dataframe"
   ]
  },
  {
   "cell_type": "code",
   "execution_count": null,
   "metadata": {},
   "outputs": [
    {
     "name": "stdout",
     "output_type": "stream",
     "text": [
      "18/19/2015\n",
      "16/20/2013\n",
      "05152015\n",
      "05152015\n",
      "05152015\n",
      "05152015\n",
      "05152015\n",
      "05152015\n",
      "05152015\n",
      "05152015\n",
      "1212012\n",
      "29/02/2006\n",
      "29/02/2006\n",
      "28.02/2014\n",
      "06/01.2009\n",
      "25090015\n",
      "31/02/2013\n",
      "31/02/2013\n",
      "31/02/2013\n",
      "12-112013\n",
      "284/2015\n"
     ]
    }
   ],
   "source": [
    "edges = pd.DataFrame(columns=['START_ID', 'END_ID', 'TYPE', 'start_date', 'end_date','source'])\n",
    "for source in sources_names:\n",
    "    edges = edges.append(d_clean[source]['edges'], sort=False)\n",
    "    \n",
    "edges.START_ID = pd.to_numeric(edges.START_ID, downcast='integer')\n",
    "edges.END_ID = pd.to_numeric(edges.END_ID, downcast='integer')\n",
    "\n",
    "edges['start_date'] = pd.to_datetime(edges['start_date'].apply(parse_date))\n",
    "edges['end_date'] = pd.to_datetime(edges['end_date'].apply(parse_date))"
   ]
  },
  {
   "cell_type": "markdown",
   "metadata": {},
   "source": [
    "Printed strings are dates that were not read correctly"
   ]
  },
  {
   "cell_type": "code",
   "execution_count": null,
   "metadata": {},
   "outputs": [
    {
     "data": {
      "text/html": [
       "<div>\n",
       "<style scoped>\n",
       "    .dataframe tbody tr th:only-of-type {\n",
       "        vertical-align: middle;\n",
       "    }\n",
       "\n",
       "    .dataframe tbody tr th {\n",
       "        vertical-align: top;\n",
       "    }\n",
       "\n",
       "    .dataframe thead th {\n",
       "        text-align: right;\n",
       "    }\n",
       "</style>\n",
       "<table border=\"1\" class=\"dataframe\">\n",
       "  <thead>\n",
       "    <tr style=\"text-align: right;\">\n",
       "      <th></th>\n",
       "      <th>START_ID</th>\n",
       "      <th>END_ID</th>\n",
       "    </tr>\n",
       "  </thead>\n",
       "  <tbody>\n",
       "    <tr>\n",
       "      <th>count</th>\n",
       "      <td>3.142523e+06</td>\n",
       "      <td>3.142523e+06</td>\n",
       "    </tr>\n",
       "    <tr>\n",
       "      <th>mean</th>\n",
       "      <td>4.614359e+07</td>\n",
       "      <td>4.507203e+07</td>\n",
       "    </tr>\n",
       "    <tr>\n",
       "      <th>std</th>\n",
       "      <td>4.459149e+07</td>\n",
       "      <td>4.222023e+07</td>\n",
       "    </tr>\n",
       "    <tr>\n",
       "      <th>min</th>\n",
       "      <td>1.000000e+00</td>\n",
       "      <td>2.500000e+01</td>\n",
       "    </tr>\n",
       "    <tr>\n",
       "      <th>25%</th>\n",
       "      <td>1.200306e+07</td>\n",
       "      <td>1.009972e+07</td>\n",
       "    </tr>\n",
       "    <tr>\n",
       "      <th>50%</th>\n",
       "      <td>5.506500e+07</td>\n",
       "      <td>5.501260e+07</td>\n",
       "    </tr>\n",
       "    <tr>\n",
       "      <th>75%</th>\n",
       "      <td>8.003554e+07</td>\n",
       "      <td>8.102962e+07</td>\n",
       "    </tr>\n",
       "    <tr>\n",
       "      <th>max</th>\n",
       "      <td>2.300001e+08</td>\n",
       "      <td>2.250001e+08</td>\n",
       "    </tr>\n",
       "  </tbody>\n",
       "</table>\n",
       "</div>"
      ],
      "text/plain": [
       "           START_ID        END_ID\n",
       "count  3.142523e+06  3.142523e+06\n",
       "mean   4.614359e+07  4.507203e+07\n",
       "std    4.459149e+07  4.222023e+07\n",
       "min    1.000000e+00  2.500000e+01\n",
       "25%    1.200306e+07  1.009972e+07\n",
       "50%    5.506500e+07  5.501260e+07\n",
       "75%    8.003554e+07  8.102962e+07\n",
       "max    2.300001e+08  2.250001e+08"
      ]
     },
     "execution_count": 29,
     "metadata": {},
     "output_type": "execute_result"
    }
   ],
   "source": [
    "edges.describe()"
   ]
  },
  {
   "cell_type": "markdown",
   "metadata": {},
   "source": [
    "We see there are <b>13</b> unique kind of edges, they are listed below. In further analysis it will be interesting to study each of them in more depth."
   ]
  },
  {
   "cell_type": "code",
   "execution_count": null,
   "metadata": {},
   "outputs": [
    {
     "data": {
      "text/plain": [
       "array(['same_address_as', 'same_company_as', 'similar_company_as',\n",
       "       'intermediary_of', 'registered_address', 'same_name_as',\n",
       "       'same_intermediary_as', 'officer_of', 'probably_same_officer_as',\n",
       "       'connected_to', 'same_id_as', 'same_as', 'underlying'],\n",
       "      dtype=object)"
      ]
     },
     "execution_count": 30,
     "metadata": {},
     "output_type": "execute_result"
    }
   ],
   "source": [
    "edges.TYPE.unique()"
   ]
  },
  {
   "cell_type": "markdown",
   "metadata": {},
   "source": [
    "### Study dates"
   ]
  },
  {
   "cell_type": "code",
   "execution_count": null,
   "metadata": {},
   "outputs": [],
   "source": [
    "number_edges = len(edges)\n",
    "number_start_date = edges.start_date.notna().sum()\n",
    "number_end_date = edges.end_date.notna().sum()"
   ]
  },
  {
   "cell_type": "code",
   "execution_count": null,
   "metadata": {},
   "outputs": [
    {
     "name": "stdout",
     "output_type": "stream",
     "text": [
      "\u001b[1m29.55%\u001b[0m of edges have a start date\n",
      "Among those, \u001b[1m22.32%\u001b[0m have an end date\n",
      "The first added relation was the 1960-03-10 00:00:00\n",
      "The last added relation was the 2015-12-31 00:00:00\n"
     ]
    }
   ],
   "source": [
    "print(pourcentage(number_start_date/number_edges), \"of edges have a start date\")\n",
    "print(\"Among those,\", pourcentage(number_end_date/(number_end_date+number_start_date)), \"have an end date\")\n",
    "print(\"The first added relation was the\", edges.start_date.min())\n",
    "print(\"The last added relation was the\", edges.start_date.max())"
   ]
  },
  {
   "cell_type": "markdown",
   "metadata": {},
   "source": [
    "### Study average and extreme values"
   ]
  },
  {
   "cell_type": "code",
   "execution_count": null,
   "metadata": {},
   "outputs": [
    {
     "name": "stdout",
     "output_type": "stream",
     "text": [
      "count    1.054794e+06\n",
      "mean     2.979277e+00\n",
      "std      6.123411e+01\n",
      "min      1.000000e+00\n",
      "25%      1.000000e+00\n",
      "50%      1.000000e+00\n",
      "75%      2.000000e+00\n",
      "max      3.637300e+04\n",
      "Name: START_ID, dtype: float64 \n",
      "\n",
      "count    1.224551e+06\n",
      "mean     2.566266e+00\n",
      "std      3.778810e+01\n",
      "min      1.000000e+00\n",
      "25%      1.000000e+00\n",
      "50%      1.000000e+00\n",
      "75%      2.000000e+00\n",
      "max      3.733800e+04\n",
      "Name: END_ID, dtype: float64\n"
     ]
    }
   ],
   "source": [
    "print(edges.START_ID.value_counts().describe(), '\\n')\n",
    "print(edges.END_ID.value_counts().describe())"
   ]
  },
  {
   "cell_type": "markdown",
   "metadata": {},
   "source": [
    "We see that on average <b>2.98</b> edges start with the same node_id, and <b>2.57</b> end with the same node_id\n",
    "\n",
    "Max number of connections starting from a given node is <b>36373</b>, and <b>37338</b> ending (another node)"
   ]
  },
  {
   "cell_type": "markdown",
   "metadata": {},
   "source": [
    "## Study connection between edges and nodes"
   ]
  },
  {
   "cell_type": "code",
   "execution_count": null,
   "metadata": {},
   "outputs": [],
   "source": [
    "id_max_links_start = edges.START_ID.value_counts().idxmax()\n",
    "max_links_start = edges.START_ID.value_counts().max()\n",
    "node_max_links_start = nodes.xs(id_max_links_start, level=0)\n",
    "\n",
    "id_max_links_end = edges.END_ID.value_counts().idxmax()\n",
    "max_links_end = edges.END_ID.value_counts().max()\n",
    "node_max_links_end = nodes.xs(id_max_links_end, level=0)"
   ]
  },
  {
   "cell_type": "code",
   "execution_count": null,
   "metadata": {
    "scrolled": true
   },
   "outputs": [
    {
     "name": "stdout",
     "output_type": "stream",
     "text": [
      "The Node with the most START edges has \u001b[1m36373\u001b[0m links and is :\n",
      "                source                               name    country_codes\n",
      "type                                                                      \n",
      "intermediary  offshore  Portcullis TrustNet (BVI) Limited  THA;VGB;IDN;SGP\n",
      "officer       offshore  Portcullis TrustNet (BVI) Limited  THA;VGB;IDN;SGP\n",
      "\n",
      "The Node with the most END edges has \u001b[1m37338\u001b[0m links and is :\n",
      "           source country_codes\n",
      "type                           \n",
      "address  offshore           VGB\n"
     ]
    }
   ],
   "source": [
    "print(\"The Node with the most START edges has\", color(str(max_links_start)), \"links and is :\")\n",
    "print(node_max_links_start[['source', 'name', 'country_codes']])\n",
    "\n",
    "print(\"\\nThe Node with the most END edges has\", color(str(max_links_end)), \"links and is :\")\n",
    "print(node_max_links_end[['source', 'country_codes']])"
   ]
  },
  {
   "cell_type": "markdown",
   "metadata": {},
   "source": [
    "## Useful sets for the following study"
   ]
  },
  {
   "cell_type": "code",
   "execution_count": null,
   "metadata": {},
   "outputs": [],
   "source": [
    "start_nodes = set(edges.START_ID)\n",
    "end_nodes = set(edges.END_ID)\n",
    "\n",
    "nodes_address_ids = set(nodes.xs('address', level='type').index.values)\n",
    "nodes_officer_ids = set(nodes.xs('officer', level='type').index.values)\n",
    "nodes_entity_ids = set(nodes.xs('entity', level='type').index.values)\n",
    "nodes_intermediary_ids = set(nodes.xs('intermediary', level='type').index.values)\n",
    "\n",
    "d_nodes_ids = {\n",
    "    'address': nodes_address_ids,\n",
    "    'officer': nodes_officer_ids,\n",
    "    'entity' : nodes_entity_ids,\n",
    "    'intermediary' : nodes_intermediary_ids\n",
    "}\n",
    "\n",
    "node_ids = frozenset().union(*d_nodes_ids.values())\n",
    "\n",
    "linked_nodes = start_nodes.union(end_nodes)\n",
    "isolated_nodes = node_ids.difference(linked_nodes)"
   ]
  },
  {
   "cell_type": "markdown",
   "metadata": {},
   "source": [
    "## Study nodes that are isolated"
   ]
  },
  {
   "cell_type": "code",
   "execution_count": null,
   "metadata": {},
   "outputs": [
    {
     "name": "stdout",
     "output_type": "stream",
     "text": [
      "There are \u001b[1m358\u001b[0m isolated nodes (0 edge connecting them)\n"
     ]
    }
   ],
   "source": [
    "print(\"There are\", color(str(len(isolated_nodes))), \"isolated nodes (0 edge connecting them)\")"
   ]
  },
  {
   "cell_type": "code",
   "execution_count": null,
   "metadata": {
    "scrolled": true
   },
   "outputs": [
    {
     "data": {
      "text/html": [
       "<div>\n",
       "<style scoped>\n",
       "    .dataframe tbody tr th:only-of-type {\n",
       "        vertical-align: middle;\n",
       "    }\n",
       "\n",
       "    .dataframe tbody tr th {\n",
       "        vertical-align: top;\n",
       "    }\n",
       "\n",
       "    .dataframe thead th {\n",
       "        text-align: right;\n",
       "    }\n",
       "</style>\n",
       "<table border=\"1\" class=\"dataframe\">\n",
       "  <thead>\n",
       "    <tr style=\"text-align: right;\">\n",
       "      <th></th>\n",
       "      <th>source</th>\n",
       "      <th>name</th>\n",
       "      <th>country_codes</th>\n",
       "      <th>jurisdiction</th>\n",
       "      <th>incorporation_date</th>\n",
       "    </tr>\n",
       "  </thead>\n",
       "  <tbody>\n",
       "    <tr>\n",
       "      <th>count</th>\n",
       "      <td>358</td>\n",
       "      <td>342</td>\n",
       "      <td>41</td>\n",
       "      <td>184</td>\n",
       "      <td>145</td>\n",
       "    </tr>\n",
       "    <tr>\n",
       "      <th>unique</th>\n",
       "      <td>4</td>\n",
       "      <td>321</td>\n",
       "      <td>23</td>\n",
       "      <td>3</td>\n",
       "      <td>109</td>\n",
       "    </tr>\n",
       "    <tr>\n",
       "      <th>top</th>\n",
       "      <td>panama</td>\n",
       "      <td>THE BEARER</td>\n",
       "      <td>GBR</td>\n",
       "      <td>KNA</td>\n",
       "      <td>1980-01-01 00:00:00</td>\n",
       "    </tr>\n",
       "    <tr>\n",
       "      <th>freq</th>\n",
       "      <td>167</td>\n",
       "      <td>21</td>\n",
       "      <td>7</td>\n",
       "      <td>149</td>\n",
       "      <td>9</td>\n",
       "    </tr>\n",
       "    <tr>\n",
       "      <th>first</th>\n",
       "      <td>NaN</td>\n",
       "      <td>NaN</td>\n",
       "      <td>NaN</td>\n",
       "      <td>NaN</td>\n",
       "      <td>1980-01-01 00:00:00</td>\n",
       "    </tr>\n",
       "    <tr>\n",
       "      <th>last</th>\n",
       "      <td>NaN</td>\n",
       "      <td>NaN</td>\n",
       "      <td>NaN</td>\n",
       "      <td>NaN</td>\n",
       "      <td>2011-08-05 00:00:00</td>\n",
       "    </tr>\n",
       "  </tbody>\n",
       "</table>\n",
       "</div>"
      ],
      "text/plain": [
       "        source        name country_codes jurisdiction   incorporation_date\n",
       "count      358         342            41          184                  145\n",
       "unique       4         321            23            3                  109\n",
       "top     panama  THE BEARER           GBR          KNA  1980-01-01 00:00:00\n",
       "freq       167          21             7          149                    9\n",
       "first      NaN         NaN           NaN          NaN  1980-01-01 00:00:00\n",
       "last       NaN         NaN           NaN          NaN  2011-08-05 00:00:00"
      ]
     },
     "execution_count": 38,
     "metadata": {},
     "output_type": "execute_result"
    }
   ],
   "source": [
    "mask_isolated = nodes.index.get_level_values(0).isin(isolated_nodes)\n",
    "nodes[mask_isolated].describe()"
   ]
  },
  {
   "cell_type": "markdown",
   "metadata": {},
   "source": [
    "## ------ Milestone 2 end ------"
   ]
  },
  {
   "cell_type": "markdown",
   "metadata": {},
   "source": [
    "# Add all content to edges"
   ]
  },
  {
   "cell_type": "code",
   "execution_count": null,
   "metadata": {},
   "outputs": [],
   "source": [
    "merge_nodes = nodes.reset_index()[['node_id', 'type', 'country_codes', 'jurisdiction']]\n",
    "merge_nodes.columns = ['id', 'start_type', 'start_country', 'start_jurisdiction']\n",
    "\n",
    "edges_completed = edges.merge(merge_nodes, how = 'left', left_on='START_ID', right_on='id')\n",
    "\n",
    "merge_nodes.columns = ['id', 'end_type', 'end_country', 'end_jurisdiction']\n",
    "\n",
    "edges_completed = edges_completed.merge(merge_nodes, how = 'left', left_on='END_ID', right_on='id')\n",
    "\n",
    "edges_completed = edges_completed.drop(columns = ['id_x', 'id_y'])"
   ]
  },
  {
   "cell_type": "markdown",
   "metadata": {},
   "source": [
    "### Useful masks\n",
    "\n",
    "Thoses masks are filters to select only edges_completed depending on some explicit criterias"
   ]
  },
  {
   "cell_type": "code",
   "execution_count": null,
   "metadata": {},
   "outputs": [],
   "source": [
    "# country_code\n",
    "mask_diff_start_end_address = (edges_completed['start_country'] != edges_completed['end_country'])\n",
    "mask_country_notna = (edges_completed['start_country'].notna()) & (edges_completed['end_country'].notna())\n",
    "\n",
    "# jurisdiction\n",
    "mask_start_loc_notna = (edges_completed['start_country'].notna()) |  (edges_completed['start_jurisdiction'].notna())\n",
    "mask_end_loc_notna = (edges_completed['end_country'].notna()) |  (edges_completed['end_jurisdiction'].notna())\n",
    "\n",
    "# intermediary\n",
    "mask_intermediary_start = (edges_completed.start_type == 'intermediary')\n",
    "mask_not_intermediary_start = (edges_completed.start_type != 'intermediary')\n",
    "mask_intermediary_end = (edges_completed.end_type == 'intermediary')\n",
    "mask_intermediary = mask_intermediary_end | mask_intermediary_start\n",
    "\n",
    "# officer\n",
    "mask_officer_start = (edges_completed.start_type == 'officer')\n",
    "\n",
    "# Relationships\n",
    "\n",
    "mask_officer_to_entity = mask_officer_start & (edges_completed['end_type'] == 'entity')\n",
    "\n",
    "# Edges\n",
    "\n",
    "mask_edge_intemerdiary_of = (edges_completed.TYPE == 'intermediary_of')\n"
   ]
  },
  {
   "cell_type": "markdown",
   "metadata": {},
   "source": [
    "#### Masks for similar nodes"
   ]
  },
  {
   "cell_type": "code",
   "execution_count": null,
   "metadata": {},
   "outputs": [],
   "source": [
    "mask_same_name_as = (edges_completed.TYPE == 'same_name_as')\n",
    "mask_same_company_as = (edges_completed.TYPE == 'same_company_as')\n",
    "mask_same_id_as = (edges_completed.TYPE == 'same_id_as')\n",
    "mask_same_as = (edges_completed.TYPE == 'same_as')\n",
    "mask_same_address_as = (edges_completed.TYPE == 'same_address_as')\n",
    "mask_same_intermediary_as = (edges_completed.TYPE == 'same_intermediary_as')\n",
    "mask_similar_company_as = (edges_completed.TYPE == 'similar_company_as') # We looked there are 200 and they're the same\n",
    "mask_probably_same_officer_as = (edges_completed.TYPE == 'probably_same_officer_as')\n",
    "\n",
    "mask_same = (mask_same_name_as | mask_same_company_as | mask_same_id_as | mask_same_as | \\\n",
    "            mask_same_address_as | mask_same_intermediary_as | mask_similar_company_as | \\\n",
    "            mask_probably_same_officer_as) "
   ]
  },
  {
   "cell_type": "markdown",
   "metadata": {},
   "source": [
    "## Merge nodes connected with \"same...\" relationships\n",
    "\n",
    "**Note :** in the end we decided not to apply the changes of this section. We realized nodes with same_name_as, or same_as... were sometimes connected with other relationships such as officer of etc. This means that even if they have the same name or similar informations, they aren't actually the same person, they just use the same 'cover' name. Therefore all the merge actions are commented in the following part, but we left the analysis.\n",
    "\n",
    "Some nodes are connected with edges with a name such as same_name_as, same_company_as...\n",
    "We decided to merge those nodes, by deleting on of them and merging their content together. When conflict on creation date, we always keep the oldest one. We believe those differences in creation date exist because they come from different sources, and the oldest date is the 'first known' date"
   ]
  },
  {
   "cell_type": "code",
   "execution_count": null,
   "metadata": {
    "scrolled": true
   },
   "outputs": [
    {
     "data": {
      "text/plain": [
       "officer_of                  1710470\n",
       "registered_address           769393\n",
       "intermediary_of              603142\n",
       "same_name_as                  79933\n",
       "same_company_as               15523\n",
       "connected_to                  12145\n",
       "same_id_as                     3120\n",
       "underlying                     1289\n",
       "similar_company_as              203\n",
       "same_as                         166\n",
       "probably_same_officer_as        132\n",
       "same_address_as                   5\n",
       "same_intermediary_as              4\n",
       "Name: TYPE, dtype: int64"
      ]
     },
     "execution_count": 42,
     "metadata": {},
     "output_type": "execute_result"
    }
   ],
   "source": [
    "edges_completed.TYPE.value_counts()"
   ]
  },
  {
   "cell_type": "code",
   "execution_count": null,
   "metadata": {},
   "outputs": [
    {
     "data": {
      "text/html": [
       "<div>\n",
       "<style scoped>\n",
       "    .dataframe tbody tr th:only-of-type {\n",
       "        vertical-align: middle;\n",
       "    }\n",
       "\n",
       "    .dataframe tbody tr th {\n",
       "        vertical-align: top;\n",
       "    }\n",
       "\n",
       "    .dataframe thead th {\n",
       "        text-align: right;\n",
       "    }\n",
       "</style>\n",
       "<table border=\"1\" class=\"dataframe\">\n",
       "  <thead>\n",
       "    <tr style=\"text-align: right;\">\n",
       "      <th></th>\n",
       "      <th>node_id_start</th>\n",
       "      <th>source_start</th>\n",
       "      <th>type_start</th>\n",
       "      <th>name_start</th>\n",
       "      <th>country_codes_start</th>\n",
       "      <th>jurisdiction_start</th>\n",
       "      <th>incorporation_date_start</th>\n",
       "      <th>node_id_end</th>\n",
       "      <th>source_end</th>\n",
       "      <th>type_end</th>\n",
       "      <th>name_end</th>\n",
       "      <th>country_codes_end</th>\n",
       "      <th>jurisdiction_end</th>\n",
       "      <th>incorporation_date_end</th>\n",
       "    </tr>\n",
       "  </thead>\n",
       "  <tbody>\n",
       "    <tr>\n",
       "      <th>0</th>\n",
       "      <td>24000030</td>\n",
       "      <td>bahamas</td>\n",
       "      <td>address</td>\n",
       "      <td>NaN</td>\n",
       "      <td>BHS</td>\n",
       "      <td>NaN</td>\n",
       "      <td>NaT</td>\n",
       "      <td>14035591</td>\n",
       "      <td>panama</td>\n",
       "      <td>address</td>\n",
       "      <td>NaN</td>\n",
       "      <td>BHS</td>\n",
       "      <td>NaN</td>\n",
       "      <td>NaT</td>\n",
       "    </tr>\n",
       "    <tr>\n",
       "      <th>1</th>\n",
       "      <td>24000086</td>\n",
       "      <td>bahamas</td>\n",
       "      <td>address</td>\n",
       "      <td>NaN</td>\n",
       "      <td>BHS</td>\n",
       "      <td>NaN</td>\n",
       "      <td>NaT</td>\n",
       "      <td>14077570</td>\n",
       "      <td>panama</td>\n",
       "      <td>address</td>\n",
       "      <td>NaN</td>\n",
       "      <td>BHS</td>\n",
       "      <td>NaN</td>\n",
       "      <td>NaT</td>\n",
       "    </tr>\n",
       "    <tr>\n",
       "      <th>2</th>\n",
       "      <td>24000090</td>\n",
       "      <td>bahamas</td>\n",
       "      <td>address</td>\n",
       "      <td>NaN</td>\n",
       "      <td>BHS</td>\n",
       "      <td>NaN</td>\n",
       "      <td>NaT</td>\n",
       "      <td>14077931</td>\n",
       "      <td>panama</td>\n",
       "      <td>address</td>\n",
       "      <td>NaN</td>\n",
       "      <td>BHS</td>\n",
       "      <td>NaN</td>\n",
       "      <td>NaT</td>\n",
       "    </tr>\n",
       "    <tr>\n",
       "      <th>3</th>\n",
       "      <td>24000098</td>\n",
       "      <td>bahamas</td>\n",
       "      <td>address</td>\n",
       "      <td>NaN</td>\n",
       "      <td>BHS</td>\n",
       "      <td>NaN</td>\n",
       "      <td>NaT</td>\n",
       "      <td>14037925</td>\n",
       "      <td>panama</td>\n",
       "      <td>address</td>\n",
       "      <td>NaN</td>\n",
       "      <td>BHS</td>\n",
       "      <td>NaN</td>\n",
       "      <td>NaT</td>\n",
       "    </tr>\n",
       "    <tr>\n",
       "      <th>4</th>\n",
       "      <td>24000336</td>\n",
       "      <td>bahamas</td>\n",
       "      <td>address</td>\n",
       "      <td>NaN</td>\n",
       "      <td>BHS</td>\n",
       "      <td>NaN</td>\n",
       "      <td>NaT</td>\n",
       "      <td>14049152</td>\n",
       "      <td>panama</td>\n",
       "      <td>address</td>\n",
       "      <td>NaN</td>\n",
       "      <td>BHS</td>\n",
       "      <td>NaN</td>\n",
       "      <td>NaT</td>\n",
       "    </tr>\n",
       "    <tr>\n",
       "      <th>5</th>\n",
       "      <td>20010508</td>\n",
       "      <td>bahamas</td>\n",
       "      <td>entity</td>\n",
       "      <td>ROZPUK INC.</td>\n",
       "      <td>NaN</td>\n",
       "      <td>BHS</td>\n",
       "      <td>1992-08-14</td>\n",
       "      <td>10212286</td>\n",
       "      <td>panama</td>\n",
       "      <td>entity</td>\n",
       "      <td>ROZPUK INC.</td>\n",
       "      <td>NaN</td>\n",
       "      <td>BHS</td>\n",
       "      <td>1992-08-14</td>\n",
       "    </tr>\n",
       "    <tr>\n",
       "      <th>6</th>\n",
       "      <td>20010509</td>\n",
       "      <td>bahamas</td>\n",
       "      <td>entity</td>\n",
       "      <td>SPRINGFLOWER PROPERTIES LIMITED</td>\n",
       "      <td>NaN</td>\n",
       "      <td>BHS</td>\n",
       "      <td>1992-08-14</td>\n",
       "      <td>10178531</td>\n",
       "      <td>panama</td>\n",
       "      <td>entity</td>\n",
       "      <td>SPRINGFLOWER PROPERTIES LIMITED    (RES) JSY</td>\n",
       "      <td>NaN</td>\n",
       "      <td>BHS</td>\n",
       "      <td>1992-08-14</td>\n",
       "    </tr>\n",
       "    <tr>\n",
       "      <th>7</th>\n",
       "      <td>20010539</td>\n",
       "      <td>bahamas</td>\n",
       "      <td>entity</td>\n",
       "      <td>ALLAM TRADING LIMITED</td>\n",
       "      <td>NaN</td>\n",
       "      <td>BHS</td>\n",
       "      <td>1992-08-18</td>\n",
       "      <td>10172356</td>\n",
       "      <td>panama</td>\n",
       "      <td>entity</td>\n",
       "      <td>ALLAM TRADING LIMITED</td>\n",
       "      <td>NaN</td>\n",
       "      <td>BHS</td>\n",
       "      <td>1992-08-18</td>\n",
       "    </tr>\n",
       "    <tr>\n",
       "      <th>8</th>\n",
       "      <td>20010540</td>\n",
       "      <td>bahamas</td>\n",
       "      <td>entity</td>\n",
       "      <td>HAMMOND PROPERTIES LTD.</td>\n",
       "      <td>NaN</td>\n",
       "      <td>BHS</td>\n",
       "      <td>1992-08-18</td>\n",
       "      <td>10178601</td>\n",
       "      <td>panama</td>\n",
       "      <td>entity</td>\n",
       "      <td>HAMMOND PROPERTIES LTD.</td>\n",
       "      <td>NaN</td>\n",
       "      <td>BHS</td>\n",
       "      <td>1992-08-18</td>\n",
       "    </tr>\n",
       "    <tr>\n",
       "      <th>9</th>\n",
       "      <td>20010541</td>\n",
       "      <td>bahamas</td>\n",
       "      <td>entity</td>\n",
       "      <td>LORTON HOLDING INC.</td>\n",
       "      <td>NaN</td>\n",
       "      <td>BHS</td>\n",
       "      <td>1992-08-18</td>\n",
       "      <td>10171021</td>\n",
       "      <td>panama</td>\n",
       "      <td>entity</td>\n",
       "      <td>LORTON HOLDING INC.</td>\n",
       "      <td>NaN</td>\n",
       "      <td>BHS</td>\n",
       "      <td>1992-08-18</td>\n",
       "    </tr>\n",
       "    <tr>\n",
       "      <th>10</th>\n",
       "      <td>20010542</td>\n",
       "      <td>bahamas</td>\n",
       "      <td>entity</td>\n",
       "      <td>CORR DEVELOPMENT LIMITED</td>\n",
       "      <td>NaN</td>\n",
       "      <td>BHS</td>\n",
       "      <td>1992-08-18</td>\n",
       "      <td>10171563</td>\n",
       "      <td>panama</td>\n",
       "      <td>entity</td>\n",
       "      <td>CORR DEVELOPMENT LIMITED    (R) GUERNSEY</td>\n",
       "      <td>NaN</td>\n",
       "      <td>BHS</td>\n",
       "      <td>1992-08-18</td>\n",
       "    </tr>\n",
       "    <tr>\n",
       "      <th>11</th>\n",
       "      <td>20010543</td>\n",
       "      <td>bahamas</td>\n",
       "      <td>entity</td>\n",
       "      <td>MINTER COMPANY S.A.</td>\n",
       "      <td>NaN</td>\n",
       "      <td>BHS</td>\n",
       "      <td>1992-08-18</td>\n",
       "      <td>10172815</td>\n",
       "      <td>panama</td>\n",
       "      <td>entity</td>\n",
       "      <td>MINTER COMPANY S.A.</td>\n",
       "      <td>NaN</td>\n",
       "      <td>BHS</td>\n",
       "      <td>1992-08-18</td>\n",
       "    </tr>\n",
       "    <tr>\n",
       "      <th>12</th>\n",
       "      <td>20010544</td>\n",
       "      <td>bahamas</td>\n",
       "      <td>entity</td>\n",
       "      <td>GRACELANE LIMITED</td>\n",
       "      <td>NaN</td>\n",
       "      <td>BHS</td>\n",
       "      <td>1992-08-18</td>\n",
       "      <td>10172814</td>\n",
       "      <td>panama</td>\n",
       "      <td>entity</td>\n",
       "      <td>GRACELANE LIMITED</td>\n",
       "      <td>NaN</td>\n",
       "      <td>BHS</td>\n",
       "      <td>1992-08-18</td>\n",
       "    </tr>\n",
       "    <tr>\n",
       "      <th>13</th>\n",
       "      <td>20010549</td>\n",
       "      <td>bahamas</td>\n",
       "      <td>entity</td>\n",
       "      <td>PAN NIPPON TRADING CORPORATION</td>\n",
       "      <td>NaN</td>\n",
       "      <td>BHS</td>\n",
       "      <td>1992-08-18</td>\n",
       "      <td>10172305</td>\n",
       "      <td>panama</td>\n",
       "      <td>entity</td>\n",
       "      <td>PAN NIPPON TRADING CORPORATION</td>\n",
       "      <td>NaN</td>\n",
       "      <td>BHS</td>\n",
       "      <td>1992-08-18</td>\n",
       "    </tr>\n",
       "    <tr>\n",
       "      <th>14</th>\n",
       "      <td>20010553</td>\n",
       "      <td>bahamas</td>\n",
       "      <td>entity</td>\n",
       "      <td>LECKY INVESTMENTS LTD.</td>\n",
       "      <td>NaN</td>\n",
       "      <td>BHS</td>\n",
       "      <td>1992-08-19</td>\n",
       "      <td>10172880</td>\n",
       "      <td>panama</td>\n",
       "      <td>entity</td>\n",
       "      <td>LECKY INVESTMENTS LTD.</td>\n",
       "      <td>NaN</td>\n",
       "      <td>BHS</td>\n",
       "      <td>1992-08-19</td>\n",
       "    </tr>\n",
       "    <tr>\n",
       "      <th>15</th>\n",
       "      <td>20010554</td>\n",
       "      <td>bahamas</td>\n",
       "      <td>entity</td>\n",
       "      <td>SPRINGFIELD (BAHAMAS) ENTERPRISES COMPANY LIMITED</td>\n",
       "      <td>NaN</td>\n",
       "      <td>BHS</td>\n",
       "      <td>1992-08-19</td>\n",
       "      <td>10212480</td>\n",
       "      <td>panama</td>\n",
       "      <td>entity</td>\n",
       "      <td>SPRINGFIELD (BAHAMAS)  ENTERPRISES COMPANY LIM...</td>\n",
       "      <td>NaN</td>\n",
       "      <td>BHS</td>\n",
       "      <td>1992-08-19</td>\n",
       "    </tr>\n",
       "    <tr>\n",
       "      <th>16</th>\n",
       "      <td>20010564</td>\n",
       "      <td>bahamas</td>\n",
       "      <td>entity</td>\n",
       "      <td>DAGOS HOLD LTD.</td>\n",
       "      <td>NaN</td>\n",
       "      <td>BHS</td>\n",
       "      <td>1992-08-20</td>\n",
       "      <td>10167828</td>\n",
       "      <td>panama</td>\n",
       "      <td>entity</td>\n",
       "      <td>DAGOS HOLD. LTD.</td>\n",
       "      <td>NaN</td>\n",
       "      <td>BHS</td>\n",
       "      <td>1992-08-20</td>\n",
       "    </tr>\n",
       "    <tr>\n",
       "      <th>17</th>\n",
       "      <td>20010585</td>\n",
       "      <td>bahamas</td>\n",
       "      <td>entity</td>\n",
       "      <td>MARINE TECHNICAL SERVICES LIMITED</td>\n",
       "      <td>NaN</td>\n",
       "      <td>BHS</td>\n",
       "      <td>1992-08-21</td>\n",
       "      <td>10169656</td>\n",
       "      <td>panama</td>\n",
       "      <td>entity</td>\n",
       "      <td>MARINE TECHNICAL SERVICES LTD.</td>\n",
       "      <td>NaN</td>\n",
       "      <td>BHS</td>\n",
       "      <td>1992-08-21</td>\n",
       "    </tr>\n",
       "    <tr>\n",
       "      <th>18</th>\n",
       "      <td>20010601</td>\n",
       "      <td>bahamas</td>\n",
       "      <td>entity</td>\n",
       "      <td>SADARBOL LTD (FORMERLY SADARBOL C.A.)</td>\n",
       "      <td>NaN</td>\n",
       "      <td>BHS</td>\n",
       "      <td>1992-08-25</td>\n",
       "      <td>10213380</td>\n",
       "      <td>panama</td>\n",
       "      <td>entity</td>\n",
       "      <td>SADARBOL LTD.</td>\n",
       "      <td>NaN</td>\n",
       "      <td>BHS</td>\n",
       "      <td>1992-08-25</td>\n",
       "    </tr>\n",
       "    <tr>\n",
       "      <th>19</th>\n",
       "      <td>20010612</td>\n",
       "      <td>bahamas</td>\n",
       "      <td>entity</td>\n",
       "      <td>VERMALA ENTERPRISES LIMITED</td>\n",
       "      <td>NaN</td>\n",
       "      <td>BHS</td>\n",
       "      <td>1992-08-26</td>\n",
       "      <td>10171617</td>\n",
       "      <td>panama</td>\n",
       "      <td>entity</td>\n",
       "      <td>VERMALA ENTERPRISES LIMITED</td>\n",
       "      <td>NaN</td>\n",
       "      <td>BHS</td>\n",
       "      <td>1992-08-26</td>\n",
       "    </tr>\n",
       "    <tr>\n",
       "      <th>20</th>\n",
       "      <td>20010638</td>\n",
       "      <td>bahamas</td>\n",
       "      <td>entity</td>\n",
       "      <td>RHINO GARMENTS INTERNATIONAL LIMITED</td>\n",
       "      <td>NaN</td>\n",
       "      <td>BHS</td>\n",
       "      <td>1992-08-26</td>\n",
       "      <td>10172648</td>\n",
       "      <td>panama</td>\n",
       "      <td>entity</td>\n",
       "      <td>RHINO GARMENTS INTERNATIONAL LIMITED</td>\n",
       "      <td>NaN</td>\n",
       "      <td>BHS</td>\n",
       "      <td>1992-08-26</td>\n",
       "    </tr>\n",
       "    <tr>\n",
       "      <th>21</th>\n",
       "      <td>20010639</td>\n",
       "      <td>bahamas</td>\n",
       "      <td>entity</td>\n",
       "      <td>KEAT INTERNATIONAL INVESTMENTS CORPORATION</td>\n",
       "      <td>NaN</td>\n",
       "      <td>BHS</td>\n",
       "      <td>1992-08-26</td>\n",
       "      <td>10168683</td>\n",
       "      <td>panama</td>\n",
       "      <td>entity</td>\n",
       "      <td>KEAT INTERNATIONAL INVESTMENTS CORPORATION</td>\n",
       "      <td>NaN</td>\n",
       "      <td>BHS</td>\n",
       "      <td>1992-08-26</td>\n",
       "    </tr>\n",
       "    <tr>\n",
       "      <th>22</th>\n",
       "      <td>20010656</td>\n",
       "      <td>bahamas</td>\n",
       "      <td>entity</td>\n",
       "      <td>ROSSVALE LIMITED</td>\n",
       "      <td>NaN</td>\n",
       "      <td>BHS</td>\n",
       "      <td>1992-08-27</td>\n",
       "      <td>10173769</td>\n",
       "      <td>panama</td>\n",
       "      <td>entity</td>\n",
       "      <td>ROSSVALE LIMITED</td>\n",
       "      <td>NaN</td>\n",
       "      <td>BHS</td>\n",
       "      <td>1992-08-27</td>\n",
       "    </tr>\n",
       "    <tr>\n",
       "      <th>23</th>\n",
       "      <td>20010657</td>\n",
       "      <td>bahamas</td>\n",
       "      <td>entity</td>\n",
       "      <td>INTMARK LTD.</td>\n",
       "      <td>NaN</td>\n",
       "      <td>BHS</td>\n",
       "      <td>1992-08-25</td>\n",
       "      <td>10167875</td>\n",
       "      <td>panama</td>\n",
       "      <td>entity</td>\n",
       "      <td>INTMARK LTD.</td>\n",
       "      <td>NaN</td>\n",
       "      <td>BHS</td>\n",
       "      <td>1992-08-25</td>\n",
       "    </tr>\n",
       "    <tr>\n",
       "      <th>24</th>\n",
       "      <td>20010662</td>\n",
       "      <td>bahamas</td>\n",
       "      <td>entity</td>\n",
       "      <td>BALLARD INTERNATIONAL LIMITED</td>\n",
       "      <td>NaN</td>\n",
       "      <td>BHS</td>\n",
       "      <td>1992-08-28</td>\n",
       "      <td>10172408</td>\n",
       "      <td>panama</td>\n",
       "      <td>entity</td>\n",
       "      <td>BALLARD INTERNATIONAL LIMITED</td>\n",
       "      <td>NaN</td>\n",
       "      <td>BHS</td>\n",
       "      <td>1992-08-28</td>\n",
       "    </tr>\n",
       "    <tr>\n",
       "      <th>25</th>\n",
       "      <td>20003083</td>\n",
       "      <td>bahamas</td>\n",
       "      <td>entity</td>\n",
       "      <td>ELBAR INVESTMENTS LIMITED</td>\n",
       "      <td>NaN</td>\n",
       "      <td>BHS</td>\n",
       "      <td>1990-11-29</td>\n",
       "      <td>10179982</td>\n",
       "      <td>panama</td>\n",
       "      <td>entity</td>\n",
       "      <td>ELBAR INVESTMENTS LIMITED</td>\n",
       "      <td>NaN</td>\n",
       "      <td>BHS</td>\n",
       "      <td>1990-11-29</td>\n",
       "    </tr>\n",
       "    <tr>\n",
       "      <th>26</th>\n",
       "      <td>20003108</td>\n",
       "      <td>bahamas</td>\n",
       "      <td>entity</td>\n",
       "      <td>CENTURY HOLDINGS LIMITED</td>\n",
       "      <td>NaN</td>\n",
       "      <td>BHS</td>\n",
       "      <td>1990-11-30</td>\n",
       "      <td>10169839</td>\n",
       "      <td>panama</td>\n",
       "      <td>entity</td>\n",
       "      <td>CENTURY HOLDINGS LIMITED</td>\n",
       "      <td>NaN</td>\n",
       "      <td>BHS</td>\n",
       "      <td>1990-11-30</td>\n",
       "    </tr>\n",
       "    <tr>\n",
       "      <th>27</th>\n",
       "      <td>20003111</td>\n",
       "      <td>bahamas</td>\n",
       "      <td>entity</td>\n",
       "      <td>INTEGRATED INVESTMENTS LIMITED</td>\n",
       "      <td>NaN</td>\n",
       "      <td>BHS</td>\n",
       "      <td>1990-11-30</td>\n",
       "      <td>10170720</td>\n",
       "      <td>panama</td>\n",
       "      <td>entity</td>\n",
       "      <td>INTEGRATED INVESTMENTS LIMITED</td>\n",
       "      <td>NaN</td>\n",
       "      <td>BHS</td>\n",
       "      <td>1990-11-30</td>\n",
       "    </tr>\n",
       "    <tr>\n",
       "      <th>28</th>\n",
       "      <td>20003144</td>\n",
       "      <td>bahamas</td>\n",
       "      <td>entity</td>\n",
       "      <td>CHATEAU RENARD LIMITED</td>\n",
       "      <td>NaN</td>\n",
       "      <td>BHS</td>\n",
       "      <td>1990-12-03</td>\n",
       "      <td>10168299</td>\n",
       "      <td>panama</td>\n",
       "      <td>entity</td>\n",
       "      <td>CHATEAU RENARD LIMITED</td>\n",
       "      <td>NaN</td>\n",
       "      <td>BHS</td>\n",
       "      <td>1990-12-03</td>\n",
       "    </tr>\n",
       "    <tr>\n",
       "      <th>29</th>\n",
       "      <td>20003145</td>\n",
       "      <td>bahamas</td>\n",
       "      <td>entity</td>\n",
       "      <td>AMAZON SHIPPING LIMITED</td>\n",
       "      <td>NaN</td>\n",
       "      <td>BHS</td>\n",
       "      <td>1990-12-03</td>\n",
       "      <td>10211867</td>\n",
       "      <td>panama</td>\n",
       "      <td>entity</td>\n",
       "      <td>AMAZON SHIPPING LIMITED</td>\n",
       "      <td>NaN</td>\n",
       "      <td>BHS</td>\n",
       "      <td>1990-12-03</td>\n",
       "    </tr>\n",
       "    <tr>\n",
       "      <th>...</th>\n",
       "      <td>...</td>\n",
       "      <td>...</td>\n",
       "      <td>...</td>\n",
       "      <td>...</td>\n",
       "      <td>...</td>\n",
       "      <td>...</td>\n",
       "      <td>...</td>\n",
       "      <td>...</td>\n",
       "      <td>...</td>\n",
       "      <td>...</td>\n",
       "      <td>...</td>\n",
       "      <td>...</td>\n",
       "      <td>...</td>\n",
       "      <td>...</td>\n",
       "    </tr>\n",
       "    <tr>\n",
       "      <th>98269</th>\n",
       "      <td>66005305</td>\n",
       "      <td>paradise</td>\n",
       "      <td>officer</td>\n",
       "      <td>WEIJIE WENG</td>\n",
       "      <td>WSM</td>\n",
       "      <td>NaN</td>\n",
       "      <td>NaT</td>\n",
       "      <td>66004545</td>\n",
       "      <td>paradise</td>\n",
       "      <td>officer</td>\n",
       "      <td>WEIJIE WENG</td>\n",
       "      <td>WSM</td>\n",
       "      <td>NaN</td>\n",
       "      <td>NaT</td>\n",
       "    </tr>\n",
       "    <tr>\n",
       "      <th>98270</th>\n",
       "      <td>66005305</td>\n",
       "      <td>paradise</td>\n",
       "      <td>officer</td>\n",
       "      <td>WEIJIE WENG</td>\n",
       "      <td>WSM</td>\n",
       "      <td>NaN</td>\n",
       "      <td>NaT</td>\n",
       "      <td>66005524</td>\n",
       "      <td>paradise</td>\n",
       "      <td>officer</td>\n",
       "      <td>WEIJIE WENG</td>\n",
       "      <td>WSM</td>\n",
       "      <td>NaN</td>\n",
       "      <td>NaT</td>\n",
       "    </tr>\n",
       "    <tr>\n",
       "      <th>98271</th>\n",
       "      <td>66005305</td>\n",
       "      <td>paradise</td>\n",
       "      <td>officer</td>\n",
       "      <td>WEIJIE WENG</td>\n",
       "      <td>WSM</td>\n",
       "      <td>NaN</td>\n",
       "      <td>NaT</td>\n",
       "      <td>66001165</td>\n",
       "      <td>paradise</td>\n",
       "      <td>officer</td>\n",
       "      <td>WEIJIE WENG</td>\n",
       "      <td>WSM</td>\n",
       "      <td>NaN</td>\n",
       "      <td>NaT</td>\n",
       "    </tr>\n",
       "    <tr>\n",
       "      <th>98272</th>\n",
       "      <td>66001047</td>\n",
       "      <td>paradise</td>\n",
       "      <td>officer</td>\n",
       "      <td>RICHARD KEIL</td>\n",
       "      <td>WSM</td>\n",
       "      <td>NaN</td>\n",
       "      <td>NaT</td>\n",
       "      <td>66000416</td>\n",
       "      <td>paradise</td>\n",
       "      <td>officer</td>\n",
       "      <td>RICHARD KEIL</td>\n",
       "      <td>WSM</td>\n",
       "      <td>NaN</td>\n",
       "      <td>NaT</td>\n",
       "    </tr>\n",
       "    <tr>\n",
       "      <th>98273</th>\n",
       "      <td>66004302</td>\n",
       "      <td>paradise</td>\n",
       "      <td>officer</td>\n",
       "      <td>SARABJIT SINGH</td>\n",
       "      <td>WSM</td>\n",
       "      <td>NaN</td>\n",
       "      <td>NaT</td>\n",
       "      <td>66005292</td>\n",
       "      <td>paradise</td>\n",
       "      <td>officer</td>\n",
       "      <td>SARABJIT SINGH</td>\n",
       "      <td>WSM</td>\n",
       "      <td>NaN</td>\n",
       "      <td>NaT</td>\n",
       "    </tr>\n",
       "    <tr>\n",
       "      <th>98274</th>\n",
       "      <td>66005378</td>\n",
       "      <td>paradise</td>\n",
       "      <td>officer</td>\n",
       "      <td>TUITOGAMATOE HICKS</td>\n",
       "      <td>WSM</td>\n",
       "      <td>NaN</td>\n",
       "      <td>NaT</td>\n",
       "      <td>66002399</td>\n",
       "      <td>paradise</td>\n",
       "      <td>officer</td>\n",
       "      <td>TUITOGAMATOE HICKS</td>\n",
       "      <td>WSM</td>\n",
       "      <td>NaN</td>\n",
       "      <td>NaT</td>\n",
       "    </tr>\n",
       "    <tr>\n",
       "      <th>98275</th>\n",
       "      <td>66005170</td>\n",
       "      <td>paradise</td>\n",
       "      <td>officer</td>\n",
       "      <td>RASMUS PEREIRA</td>\n",
       "      <td>NZL</td>\n",
       "      <td>NaN</td>\n",
       "      <td>NaT</td>\n",
       "      <td>66005171</td>\n",
       "      <td>paradise</td>\n",
       "      <td>officer</td>\n",
       "      <td>RASMUS PEREIRA</td>\n",
       "      <td>WSM</td>\n",
       "      <td>NaN</td>\n",
       "      <td>NaT</td>\n",
       "    </tr>\n",
       "    <tr>\n",
       "      <th>98276</th>\n",
       "      <td>66005736</td>\n",
       "      <td>paradise</td>\n",
       "      <td>officer</td>\n",
       "      <td>MALIENAFAU HUNKIN</td>\n",
       "      <td>NaN</td>\n",
       "      <td>NaN</td>\n",
       "      <td>NaT</td>\n",
       "      <td>66005735</td>\n",
       "      <td>paradise</td>\n",
       "      <td>officer</td>\n",
       "      <td>MALIENAFAU HUNKIN</td>\n",
       "      <td>NaN</td>\n",
       "      <td>NaN</td>\n",
       "      <td>NaT</td>\n",
       "    </tr>\n",
       "    <tr>\n",
       "      <th>98277</th>\n",
       "      <td>66002180</td>\n",
       "      <td>paradise</td>\n",
       "      <td>officer</td>\n",
       "      <td>VIVA MATAALA MEREDITH</td>\n",
       "      <td>WSM</td>\n",
       "      <td>NaN</td>\n",
       "      <td>NaT</td>\n",
       "      <td>66004245</td>\n",
       "      <td>paradise</td>\n",
       "      <td>officer</td>\n",
       "      <td>VIVA MATAALA MEREDITH</td>\n",
       "      <td>WSM</td>\n",
       "      <td>NaN</td>\n",
       "      <td>NaT</td>\n",
       "    </tr>\n",
       "    <tr>\n",
       "      <th>98278</th>\n",
       "      <td>66002180</td>\n",
       "      <td>paradise</td>\n",
       "      <td>officer</td>\n",
       "      <td>VIVA MATAALA MEREDITH</td>\n",
       "      <td>WSM</td>\n",
       "      <td>NaN</td>\n",
       "      <td>NaT</td>\n",
       "      <td>66004265</td>\n",
       "      <td>paradise</td>\n",
       "      <td>officer</td>\n",
       "      <td>VIVA MATAALA MEREDITH</td>\n",
       "      <td>WSM</td>\n",
       "      <td>NaN</td>\n",
       "      <td>NaT</td>\n",
       "    </tr>\n",
       "    <tr>\n",
       "      <th>98279</th>\n",
       "      <td>66005107</td>\n",
       "      <td>paradise</td>\n",
       "      <td>officer</td>\n",
       "      <td>PETER JOHN ANSLOW</td>\n",
       "      <td>WSM</td>\n",
       "      <td>NaN</td>\n",
       "      <td>NaT</td>\n",
       "      <td>66005106</td>\n",
       "      <td>paradise</td>\n",
       "      <td>officer</td>\n",
       "      <td>PETER JOHN ANSLOW</td>\n",
       "      <td>WSM</td>\n",
       "      <td>NaN</td>\n",
       "      <td>NaT</td>\n",
       "    </tr>\n",
       "    <tr>\n",
       "      <th>98280</th>\n",
       "      <td>66004354</td>\n",
       "      <td>paradise</td>\n",
       "      <td>officer</td>\n",
       "      <td>SEUMANUTAFA MALAKI IAKOPO</td>\n",
       "      <td>WSM</td>\n",
       "      <td>NaN</td>\n",
       "      <td>NaT</td>\n",
       "      <td>66005312</td>\n",
       "      <td>paradise</td>\n",
       "      <td>officer</td>\n",
       "      <td>SEUMANUTAFA MALAKI IAKOPO</td>\n",
       "      <td>WSM</td>\n",
       "      <td>NaN</td>\n",
       "      <td>NaT</td>\n",
       "    </tr>\n",
       "    <tr>\n",
       "      <th>98281</th>\n",
       "      <td>66002941</td>\n",
       "      <td>paradise</td>\n",
       "      <td>officer</td>\n",
       "      <td>SALEIMOA VAAI</td>\n",
       "      <td>WSM</td>\n",
       "      <td>NaN</td>\n",
       "      <td>NaT</td>\n",
       "      <td>66004397</td>\n",
       "      <td>paradise</td>\n",
       "      <td>officer</td>\n",
       "      <td>SALEIMOA VAAI</td>\n",
       "      <td>WSM</td>\n",
       "      <td>NaN</td>\n",
       "      <td>NaT</td>\n",
       "    </tr>\n",
       "    <tr>\n",
       "      <th>98282</th>\n",
       "      <td>66005116</td>\n",
       "      <td>paradise</td>\n",
       "      <td>officer</td>\n",
       "      <td>PIO MOLIOO</td>\n",
       "      <td>WSM</td>\n",
       "      <td>NaN</td>\n",
       "      <td>NaT</td>\n",
       "      <td>66000582</td>\n",
       "      <td>paradise</td>\n",
       "      <td>officer</td>\n",
       "      <td>PIO MOLIOO</td>\n",
       "      <td>WSM</td>\n",
       "      <td>NaN</td>\n",
       "      <td>NaT</td>\n",
       "    </tr>\n",
       "    <tr>\n",
       "      <th>98283</th>\n",
       "      <td>66005019</td>\n",
       "      <td>paradise</td>\n",
       "      <td>officer</td>\n",
       "      <td>MUHAMMAD SHAHBAZ FAREED</td>\n",
       "      <td>WSM</td>\n",
       "      <td>NaN</td>\n",
       "      <td>NaT</td>\n",
       "      <td>66005021</td>\n",
       "      <td>paradise</td>\n",
       "      <td>officer</td>\n",
       "      <td>MUHAMMAD SHAHBAZ FAREED</td>\n",
       "      <td>PAK</td>\n",
       "      <td>NaN</td>\n",
       "      <td>NaT</td>\n",
       "    </tr>\n",
       "    <tr>\n",
       "      <th>98284</th>\n",
       "      <td>66005268</td>\n",
       "      <td>paradise</td>\n",
       "      <td>officer</td>\n",
       "      <td>SEIULI BLACK</td>\n",
       "      <td>WSM</td>\n",
       "      <td>NaN</td>\n",
       "      <td>NaT</td>\n",
       "      <td>66005269</td>\n",
       "      <td>paradise</td>\n",
       "      <td>officer</td>\n",
       "      <td>SEIULI BLACK</td>\n",
       "      <td>WSM</td>\n",
       "      <td>NaN</td>\n",
       "      <td>NaT</td>\n",
       "    </tr>\n",
       "    <tr>\n",
       "      <th>98285</th>\n",
       "      <td>66002528</td>\n",
       "      <td>paradise</td>\n",
       "      <td>officer</td>\n",
       "      <td>EKUETA CHANG</td>\n",
       "      <td>WSM</td>\n",
       "      <td>NaN</td>\n",
       "      <td>NaT</td>\n",
       "      <td>66002519</td>\n",
       "      <td>paradise</td>\n",
       "      <td>officer</td>\n",
       "      <td>EKUETA CHANG</td>\n",
       "      <td>WSM</td>\n",
       "      <td>NaN</td>\n",
       "      <td>NaT</td>\n",
       "    </tr>\n",
       "    <tr>\n",
       "      <th>98286</th>\n",
       "      <td>66001893</td>\n",
       "      <td>paradise</td>\n",
       "      <td>officer</td>\n",
       "      <td>MARK E BETHAM</td>\n",
       "      <td>WSM</td>\n",
       "      <td>NaN</td>\n",
       "      <td>NaT</td>\n",
       "      <td>66001524</td>\n",
       "      <td>paradise</td>\n",
       "      <td>officer</td>\n",
       "      <td>MARK E BETHAM</td>\n",
       "      <td>WSM</td>\n",
       "      <td>NaN</td>\n",
       "      <td>NaT</td>\n",
       "    </tr>\n",
       "    <tr>\n",
       "      <th>98287</th>\n",
       "      <td>66003658</td>\n",
       "      <td>paradise</td>\n",
       "      <td>officer</td>\n",
       "      <td>CHRISTOPH HOEFIG</td>\n",
       "      <td>WSM</td>\n",
       "      <td>NaN</td>\n",
       "      <td>NaT</td>\n",
       "      <td>66003657</td>\n",
       "      <td>paradise</td>\n",
       "      <td>officer</td>\n",
       "      <td>CHRISTOPH HOEFIG</td>\n",
       "      <td>WSM</td>\n",
       "      <td>NaN</td>\n",
       "      <td>NaT</td>\n",
       "    </tr>\n",
       "    <tr>\n",
       "      <th>98288</th>\n",
       "      <td>66004065</td>\n",
       "      <td>paradise</td>\n",
       "      <td>officer</td>\n",
       "      <td>WAYNE LESLIE DAVIS</td>\n",
       "      <td>WSM</td>\n",
       "      <td>NaN</td>\n",
       "      <td>NaT</td>\n",
       "      <td>66005520</td>\n",
       "      <td>paradise</td>\n",
       "      <td>officer</td>\n",
       "      <td>WAYNE LESLIE DAVIS</td>\n",
       "      <td>WSM</td>\n",
       "      <td>NaN</td>\n",
       "      <td>NaT</td>\n",
       "    </tr>\n",
       "    <tr>\n",
       "      <th>98289</th>\n",
       "      <td>66000388</td>\n",
       "      <td>paradise</td>\n",
       "      <td>officer</td>\n",
       "      <td>LEMALU RAY AH LIKI</td>\n",
       "      <td>WSM</td>\n",
       "      <td>NaN</td>\n",
       "      <td>NaT</td>\n",
       "      <td>66002135</td>\n",
       "      <td>paradise</td>\n",
       "      <td>officer</td>\n",
       "      <td>LEMALU RAY AH LIKI</td>\n",
       "      <td>WSM</td>\n",
       "      <td>NaN</td>\n",
       "      <td>NaT</td>\n",
       "    </tr>\n",
       "    <tr>\n",
       "      <th>98290</th>\n",
       "      <td>66003276</td>\n",
       "      <td>paradise</td>\n",
       "      <td>officer</td>\n",
       "      <td>KERETI AH LIKI</td>\n",
       "      <td>WSM</td>\n",
       "      <td>NaN</td>\n",
       "      <td>NaT</td>\n",
       "      <td>66000529</td>\n",
       "      <td>paradise</td>\n",
       "      <td>officer</td>\n",
       "      <td>KERETI AH LIKI</td>\n",
       "      <td>WSM</td>\n",
       "      <td>NaN</td>\n",
       "      <td>NaT</td>\n",
       "    </tr>\n",
       "    <tr>\n",
       "      <th>98291</th>\n",
       "      <td>66004625</td>\n",
       "      <td>paradise</td>\n",
       "      <td>officer</td>\n",
       "      <td>SAINA ADAM</td>\n",
       "      <td>WSM</td>\n",
       "      <td>NaN</td>\n",
       "      <td>NaT</td>\n",
       "      <td>66001494</td>\n",
       "      <td>paradise</td>\n",
       "      <td>officer</td>\n",
       "      <td>SAINA ADAM</td>\n",
       "      <td>WSM</td>\n",
       "      <td>NaN</td>\n",
       "      <td>NaT</td>\n",
       "    </tr>\n",
       "    <tr>\n",
       "      <th>98292</th>\n",
       "      <td>66005381</td>\n",
       "      <td>paradise</td>\n",
       "      <td>officer</td>\n",
       "      <td>THANGAVELU PALANISWAMY</td>\n",
       "      <td>IND</td>\n",
       "      <td>NaN</td>\n",
       "      <td>NaT</td>\n",
       "      <td>66005382</td>\n",
       "      <td>paradise</td>\n",
       "      <td>officer</td>\n",
       "      <td>THANGAVELU PALANISWAMY</td>\n",
       "      <td>IND</td>\n",
       "      <td>NaN</td>\n",
       "      <td>NaT</td>\n",
       "    </tr>\n",
       "    <tr>\n",
       "      <th>98293</th>\n",
       "      <td>66005381</td>\n",
       "      <td>paradise</td>\n",
       "      <td>officer</td>\n",
       "      <td>THANGAVELU PALANISWAMY</td>\n",
       "      <td>IND</td>\n",
       "      <td>NaN</td>\n",
       "      <td>NaT</td>\n",
       "      <td>66004726</td>\n",
       "      <td>paradise</td>\n",
       "      <td>officer</td>\n",
       "      <td>THANGAVELU PALANISWAMY</td>\n",
       "      <td>WSM</td>\n",
       "      <td>NaN</td>\n",
       "      <td>NaT</td>\n",
       "    </tr>\n",
       "    <tr>\n",
       "      <th>98294</th>\n",
       "      <td>66005369</td>\n",
       "      <td>paradise</td>\n",
       "      <td>officer</td>\n",
       "      <td>SUAFAIGA DR PETER BLOOD</td>\n",
       "      <td>WSM</td>\n",
       "      <td>NaN</td>\n",
       "      <td>NaT</td>\n",
       "      <td>66001282</td>\n",
       "      <td>paradise</td>\n",
       "      <td>officer</td>\n",
       "      <td>SUAFAIGA DR PETER BLOOD</td>\n",
       "      <td>WSM</td>\n",
       "      <td>NaN</td>\n",
       "      <td>NaT</td>\n",
       "    </tr>\n",
       "    <tr>\n",
       "      <th>98295</th>\n",
       "      <td>66005369</td>\n",
       "      <td>paradise</td>\n",
       "      <td>officer</td>\n",
       "      <td>SUAFAIGA DR PETER BLOOD</td>\n",
       "      <td>WSM</td>\n",
       "      <td>NaN</td>\n",
       "      <td>NaT</td>\n",
       "      <td>66003205</td>\n",
       "      <td>paradise</td>\n",
       "      <td>officer</td>\n",
       "      <td>SUAFAIGA DR PETER BLOOD</td>\n",
       "      <td>WSM</td>\n",
       "      <td>NaN</td>\n",
       "      <td>NaT</td>\n",
       "    </tr>\n",
       "    <tr>\n",
       "      <th>98296</th>\n",
       "      <td>66001573</td>\n",
       "      <td>paradise</td>\n",
       "      <td>officer</td>\n",
       "      <td>SEEHOY CHAN MOW</td>\n",
       "      <td>WSM</td>\n",
       "      <td>NaN</td>\n",
       "      <td>NaT</td>\n",
       "      <td>66005802</td>\n",
       "      <td>paradise</td>\n",
       "      <td>officer</td>\n",
       "      <td>SEEHOY CHAN MOW</td>\n",
       "      <td>NaN</td>\n",
       "      <td>NaN</td>\n",
       "      <td>NaT</td>\n",
       "    </tr>\n",
       "    <tr>\n",
       "      <th>98297</th>\n",
       "      <td>66001573</td>\n",
       "      <td>paradise</td>\n",
       "      <td>officer</td>\n",
       "      <td>SEEHOY CHAN MOW</td>\n",
       "      <td>WSM</td>\n",
       "      <td>NaN</td>\n",
       "      <td>NaT</td>\n",
       "      <td>66004626</td>\n",
       "      <td>paradise</td>\n",
       "      <td>officer</td>\n",
       "      <td>SEEHOY CHAN MOW</td>\n",
       "      <td>WSM</td>\n",
       "      <td>NaN</td>\n",
       "      <td>NaT</td>\n",
       "    </tr>\n",
       "    <tr>\n",
       "      <th>98298</th>\n",
       "      <td>66001573</td>\n",
       "      <td>paradise</td>\n",
       "      <td>officer</td>\n",
       "      <td>SEEHOY CHAN MOW</td>\n",
       "      <td>WSM</td>\n",
       "      <td>NaN</td>\n",
       "      <td>NaT</td>\n",
       "      <td>66001497</td>\n",
       "      <td>paradise</td>\n",
       "      <td>officer</td>\n",
       "      <td>SEEHOY CHAN MOW</td>\n",
       "      <td>WSM</td>\n",
       "      <td>NaN</td>\n",
       "      <td>NaT</td>\n",
       "    </tr>\n",
       "  </tbody>\n",
       "</table>\n",
       "<p>98299 rows × 14 columns</p>\n",
       "</div>"
      ],
      "text/plain": [
       "       node_id_start source_start type_start  \\\n",
       "0           24000030      bahamas    address   \n",
       "1           24000086      bahamas    address   \n",
       "2           24000090      bahamas    address   \n",
       "3           24000098      bahamas    address   \n",
       "4           24000336      bahamas    address   \n",
       "5           20010508      bahamas     entity   \n",
       "6           20010509      bahamas     entity   \n",
       "7           20010539      bahamas     entity   \n",
       "8           20010540      bahamas     entity   \n",
       "9           20010541      bahamas     entity   \n",
       "10          20010542      bahamas     entity   \n",
       "11          20010543      bahamas     entity   \n",
       "12          20010544      bahamas     entity   \n",
       "13          20010549      bahamas     entity   \n",
       "14          20010553      bahamas     entity   \n",
       "15          20010554      bahamas     entity   \n",
       "16          20010564      bahamas     entity   \n",
       "17          20010585      bahamas     entity   \n",
       "18          20010601      bahamas     entity   \n",
       "19          20010612      bahamas     entity   \n",
       "20          20010638      bahamas     entity   \n",
       "21          20010639      bahamas     entity   \n",
       "22          20010656      bahamas     entity   \n",
       "23          20010657      bahamas     entity   \n",
       "24          20010662      bahamas     entity   \n",
       "25          20003083      bahamas     entity   \n",
       "26          20003108      bahamas     entity   \n",
       "27          20003111      bahamas     entity   \n",
       "28          20003144      bahamas     entity   \n",
       "29          20003145      bahamas     entity   \n",
       "...              ...          ...        ...   \n",
       "98269       66005305     paradise    officer   \n",
       "98270       66005305     paradise    officer   \n",
       "98271       66005305     paradise    officer   \n",
       "98272       66001047     paradise    officer   \n",
       "98273       66004302     paradise    officer   \n",
       "98274       66005378     paradise    officer   \n",
       "98275       66005170     paradise    officer   \n",
       "98276       66005736     paradise    officer   \n",
       "98277       66002180     paradise    officer   \n",
       "98278       66002180     paradise    officer   \n",
       "98279       66005107     paradise    officer   \n",
       "98280       66004354     paradise    officer   \n",
       "98281       66002941     paradise    officer   \n",
       "98282       66005116     paradise    officer   \n",
       "98283       66005019     paradise    officer   \n",
       "98284       66005268     paradise    officer   \n",
       "98285       66002528     paradise    officer   \n",
       "98286       66001893     paradise    officer   \n",
       "98287       66003658     paradise    officer   \n",
       "98288       66004065     paradise    officer   \n",
       "98289       66000388     paradise    officer   \n",
       "98290       66003276     paradise    officer   \n",
       "98291       66004625     paradise    officer   \n",
       "98292       66005381     paradise    officer   \n",
       "98293       66005381     paradise    officer   \n",
       "98294       66005369     paradise    officer   \n",
       "98295       66005369     paradise    officer   \n",
       "98296       66001573     paradise    officer   \n",
       "98297       66001573     paradise    officer   \n",
       "98298       66001573     paradise    officer   \n",
       "\n",
       "                                              name_start country_codes_start  \\\n",
       "0                                                    NaN                 BHS   \n",
       "1                                                    NaN                 BHS   \n",
       "2                                                    NaN                 BHS   \n",
       "3                                                    NaN                 BHS   \n",
       "4                                                    NaN                 BHS   \n",
       "5                                            ROZPUK INC.                 NaN   \n",
       "6                        SPRINGFLOWER PROPERTIES LIMITED                 NaN   \n",
       "7                                  ALLAM TRADING LIMITED                 NaN   \n",
       "8                                HAMMOND PROPERTIES LTD.                 NaN   \n",
       "9                                    LORTON HOLDING INC.                 NaN   \n",
       "10                              CORR DEVELOPMENT LIMITED                 NaN   \n",
       "11                                   MINTER COMPANY S.A.                 NaN   \n",
       "12                                     GRACELANE LIMITED                 NaN   \n",
       "13                        PAN NIPPON TRADING CORPORATION                 NaN   \n",
       "14                                LECKY INVESTMENTS LTD.                 NaN   \n",
       "15     SPRINGFIELD (BAHAMAS) ENTERPRISES COMPANY LIMITED                 NaN   \n",
       "16                                       DAGOS HOLD LTD.                 NaN   \n",
       "17                     MARINE TECHNICAL SERVICES LIMITED                 NaN   \n",
       "18                 SADARBOL LTD (FORMERLY SADARBOL C.A.)                 NaN   \n",
       "19                           VERMALA ENTERPRISES LIMITED                 NaN   \n",
       "20                  RHINO GARMENTS INTERNATIONAL LIMITED                 NaN   \n",
       "21            KEAT INTERNATIONAL INVESTMENTS CORPORATION                 NaN   \n",
       "22                                      ROSSVALE LIMITED                 NaN   \n",
       "23                                          INTMARK LTD.                 NaN   \n",
       "24                         BALLARD INTERNATIONAL LIMITED                 NaN   \n",
       "25                             ELBAR INVESTMENTS LIMITED                 NaN   \n",
       "26                              CENTURY HOLDINGS LIMITED                 NaN   \n",
       "27                        INTEGRATED INVESTMENTS LIMITED                 NaN   \n",
       "28                                CHATEAU RENARD LIMITED                 NaN   \n",
       "29                               AMAZON SHIPPING LIMITED                 NaN   \n",
       "...                                                  ...                 ...   \n",
       "98269                                        WEIJIE WENG                 WSM   \n",
       "98270                                        WEIJIE WENG                 WSM   \n",
       "98271                                        WEIJIE WENG                 WSM   \n",
       "98272                                       RICHARD KEIL                 WSM   \n",
       "98273                                     SARABJIT SINGH                 WSM   \n",
       "98274                                 TUITOGAMATOE HICKS                 WSM   \n",
       "98275                                     RASMUS PEREIRA                 NZL   \n",
       "98276                                  MALIENAFAU HUNKIN                 NaN   \n",
       "98277                              VIVA MATAALA MEREDITH                 WSM   \n",
       "98278                              VIVA MATAALA MEREDITH                 WSM   \n",
       "98279                                  PETER JOHN ANSLOW                 WSM   \n",
       "98280                          SEUMANUTAFA MALAKI IAKOPO                 WSM   \n",
       "98281                                      SALEIMOA VAAI                 WSM   \n",
       "98282                                         PIO MOLIOO                 WSM   \n",
       "98283                            MUHAMMAD SHAHBAZ FAREED                 WSM   \n",
       "98284                                       SEIULI BLACK                 WSM   \n",
       "98285                                       EKUETA CHANG                 WSM   \n",
       "98286                                      MARK E BETHAM                 WSM   \n",
       "98287                                   CHRISTOPH HOEFIG                 WSM   \n",
       "98288                                 WAYNE LESLIE DAVIS                 WSM   \n",
       "98289                                 LEMALU RAY AH LIKI                 WSM   \n",
       "98290                                     KERETI AH LIKI                 WSM   \n",
       "98291                                         SAINA ADAM                 WSM   \n",
       "98292                             THANGAVELU PALANISWAMY                 IND   \n",
       "98293                             THANGAVELU PALANISWAMY                 IND   \n",
       "98294                            SUAFAIGA DR PETER BLOOD                 WSM   \n",
       "98295                            SUAFAIGA DR PETER BLOOD                 WSM   \n",
       "98296                                    SEEHOY CHAN MOW                 WSM   \n",
       "98297                                    SEEHOY CHAN MOW                 WSM   \n",
       "98298                                    SEEHOY CHAN MOW                 WSM   \n",
       "\n",
       "      jurisdiction_start incorporation_date_start  node_id_end source_end  \\\n",
       "0                    NaN                      NaT     14035591     panama   \n",
       "1                    NaN                      NaT     14077570     panama   \n",
       "2                    NaN                      NaT     14077931     panama   \n",
       "3                    NaN                      NaT     14037925     panama   \n",
       "4                    NaN                      NaT     14049152     panama   \n",
       "5                    BHS               1992-08-14     10212286     panama   \n",
       "6                    BHS               1992-08-14     10178531     panama   \n",
       "7                    BHS               1992-08-18     10172356     panama   \n",
       "8                    BHS               1992-08-18     10178601     panama   \n",
       "9                    BHS               1992-08-18     10171021     panama   \n",
       "10                   BHS               1992-08-18     10171563     panama   \n",
       "11                   BHS               1992-08-18     10172815     panama   \n",
       "12                   BHS               1992-08-18     10172814     panama   \n",
       "13                   BHS               1992-08-18     10172305     panama   \n",
       "14                   BHS               1992-08-19     10172880     panama   \n",
       "15                   BHS               1992-08-19     10212480     panama   \n",
       "16                   BHS               1992-08-20     10167828     panama   \n",
       "17                   BHS               1992-08-21     10169656     panama   \n",
       "18                   BHS               1992-08-25     10213380     panama   \n",
       "19                   BHS               1992-08-26     10171617     panama   \n",
       "20                   BHS               1992-08-26     10172648     panama   \n",
       "21                   BHS               1992-08-26     10168683     panama   \n",
       "22                   BHS               1992-08-27     10173769     panama   \n",
       "23                   BHS               1992-08-25     10167875     panama   \n",
       "24                   BHS               1992-08-28     10172408     panama   \n",
       "25                   BHS               1990-11-29     10179982     panama   \n",
       "26                   BHS               1990-11-30     10169839     panama   \n",
       "27                   BHS               1990-11-30     10170720     panama   \n",
       "28                   BHS               1990-12-03     10168299     panama   \n",
       "29                   BHS               1990-12-03     10211867     panama   \n",
       "...                  ...                      ...          ...        ...   \n",
       "98269                NaN                      NaT     66004545   paradise   \n",
       "98270                NaN                      NaT     66005524   paradise   \n",
       "98271                NaN                      NaT     66001165   paradise   \n",
       "98272                NaN                      NaT     66000416   paradise   \n",
       "98273                NaN                      NaT     66005292   paradise   \n",
       "98274                NaN                      NaT     66002399   paradise   \n",
       "98275                NaN                      NaT     66005171   paradise   \n",
       "98276                NaN                      NaT     66005735   paradise   \n",
       "98277                NaN                      NaT     66004245   paradise   \n",
       "98278                NaN                      NaT     66004265   paradise   \n",
       "98279                NaN                      NaT     66005106   paradise   \n",
       "98280                NaN                      NaT     66005312   paradise   \n",
       "98281                NaN                      NaT     66004397   paradise   \n",
       "98282                NaN                      NaT     66000582   paradise   \n",
       "98283                NaN                      NaT     66005021   paradise   \n",
       "98284                NaN                      NaT     66005269   paradise   \n",
       "98285                NaN                      NaT     66002519   paradise   \n",
       "98286                NaN                      NaT     66001524   paradise   \n",
       "98287                NaN                      NaT     66003657   paradise   \n",
       "98288                NaN                      NaT     66005520   paradise   \n",
       "98289                NaN                      NaT     66002135   paradise   \n",
       "98290                NaN                      NaT     66000529   paradise   \n",
       "98291                NaN                      NaT     66001494   paradise   \n",
       "98292                NaN                      NaT     66005382   paradise   \n",
       "98293                NaN                      NaT     66004726   paradise   \n",
       "98294                NaN                      NaT     66001282   paradise   \n",
       "98295                NaN                      NaT     66003205   paradise   \n",
       "98296                NaN                      NaT     66005802   paradise   \n",
       "98297                NaN                      NaT     66004626   paradise   \n",
       "98298                NaN                      NaT     66001497   paradise   \n",
       "\n",
       "      type_end                                           name_end  \\\n",
       "0      address                                                NaN   \n",
       "1      address                                                NaN   \n",
       "2      address                                                NaN   \n",
       "3      address                                                NaN   \n",
       "4      address                                                NaN   \n",
       "5       entity                                        ROZPUK INC.   \n",
       "6       entity       SPRINGFLOWER PROPERTIES LIMITED    (RES) JSY   \n",
       "7       entity                              ALLAM TRADING LIMITED   \n",
       "8       entity                            HAMMOND PROPERTIES LTD.   \n",
       "9       entity                                LORTON HOLDING INC.   \n",
       "10      entity           CORR DEVELOPMENT LIMITED    (R) GUERNSEY   \n",
       "11      entity                                MINTER COMPANY S.A.   \n",
       "12      entity                                  GRACELANE LIMITED   \n",
       "13      entity                     PAN NIPPON TRADING CORPORATION   \n",
       "14      entity                             LECKY INVESTMENTS LTD.   \n",
       "15      entity  SPRINGFIELD (BAHAMAS)  ENTERPRISES COMPANY LIM...   \n",
       "16      entity                                   DAGOS HOLD. LTD.   \n",
       "17      entity                     MARINE TECHNICAL SERVICES LTD.   \n",
       "18      entity                                      SADARBOL LTD.   \n",
       "19      entity                        VERMALA ENTERPRISES LIMITED   \n",
       "20      entity               RHINO GARMENTS INTERNATIONAL LIMITED   \n",
       "21      entity         KEAT INTERNATIONAL INVESTMENTS CORPORATION   \n",
       "22      entity                                   ROSSVALE LIMITED   \n",
       "23      entity                                       INTMARK LTD.   \n",
       "24      entity                      BALLARD INTERNATIONAL LIMITED   \n",
       "25      entity                          ELBAR INVESTMENTS LIMITED   \n",
       "26      entity                           CENTURY HOLDINGS LIMITED   \n",
       "27      entity                     INTEGRATED INVESTMENTS LIMITED   \n",
       "28      entity                             CHATEAU RENARD LIMITED   \n",
       "29      entity                            AMAZON SHIPPING LIMITED   \n",
       "...        ...                                                ...   \n",
       "98269  officer                                        WEIJIE WENG   \n",
       "98270  officer                                        WEIJIE WENG   \n",
       "98271  officer                                        WEIJIE WENG   \n",
       "98272  officer                                       RICHARD KEIL   \n",
       "98273  officer                                     SARABJIT SINGH   \n",
       "98274  officer                                 TUITOGAMATOE HICKS   \n",
       "98275  officer                                     RASMUS PEREIRA   \n",
       "98276  officer                                  MALIENAFAU HUNKIN   \n",
       "98277  officer                              VIVA MATAALA MEREDITH   \n",
       "98278  officer                              VIVA MATAALA MEREDITH   \n",
       "98279  officer                                  PETER JOHN ANSLOW   \n",
       "98280  officer                          SEUMANUTAFA MALAKI IAKOPO   \n",
       "98281  officer                                      SALEIMOA VAAI   \n",
       "98282  officer                                         PIO MOLIOO   \n",
       "98283  officer                            MUHAMMAD SHAHBAZ FAREED   \n",
       "98284  officer                                       SEIULI BLACK   \n",
       "98285  officer                                       EKUETA CHANG   \n",
       "98286  officer                                      MARK E BETHAM   \n",
       "98287  officer                                   CHRISTOPH HOEFIG   \n",
       "98288  officer                                 WAYNE LESLIE DAVIS   \n",
       "98289  officer                                 LEMALU RAY AH LIKI   \n",
       "98290  officer                                     KERETI AH LIKI   \n",
       "98291  officer                                         SAINA ADAM   \n",
       "98292  officer                             THANGAVELU PALANISWAMY   \n",
       "98293  officer                             THANGAVELU PALANISWAMY   \n",
       "98294  officer                            SUAFAIGA DR PETER BLOOD   \n",
       "98295  officer                            SUAFAIGA DR PETER BLOOD   \n",
       "98296  officer                                    SEEHOY CHAN MOW   \n",
       "98297  officer                                    SEEHOY CHAN MOW   \n",
       "98298  officer                                    SEEHOY CHAN MOW   \n",
       "\n",
       "      country_codes_end jurisdiction_end incorporation_date_end  \n",
       "0                   BHS              NaN                    NaT  \n",
       "1                   BHS              NaN                    NaT  \n",
       "2                   BHS              NaN                    NaT  \n",
       "3                   BHS              NaN                    NaT  \n",
       "4                   BHS              NaN                    NaT  \n",
       "5                   NaN              BHS             1992-08-14  \n",
       "6                   NaN              BHS             1992-08-14  \n",
       "7                   NaN              BHS             1992-08-18  \n",
       "8                   NaN              BHS             1992-08-18  \n",
       "9                   NaN              BHS             1992-08-18  \n",
       "10                  NaN              BHS             1992-08-18  \n",
       "11                  NaN              BHS             1992-08-18  \n",
       "12                  NaN              BHS             1992-08-18  \n",
       "13                  NaN              BHS             1992-08-18  \n",
       "14                  NaN              BHS             1992-08-19  \n",
       "15                  NaN              BHS             1992-08-19  \n",
       "16                  NaN              BHS             1992-08-20  \n",
       "17                  NaN              BHS             1992-08-21  \n",
       "18                  NaN              BHS             1992-08-25  \n",
       "19                  NaN              BHS             1992-08-26  \n",
       "20                  NaN              BHS             1992-08-26  \n",
       "21                  NaN              BHS             1992-08-26  \n",
       "22                  NaN              BHS             1992-08-27  \n",
       "23                  NaN              BHS             1992-08-25  \n",
       "24                  NaN              BHS             1992-08-28  \n",
       "25                  NaN              BHS             1990-11-29  \n",
       "26                  NaN              BHS             1990-11-30  \n",
       "27                  NaN              BHS             1990-11-30  \n",
       "28                  NaN              BHS             1990-12-03  \n",
       "29                  NaN              BHS             1990-12-03  \n",
       "...                 ...              ...                    ...  \n",
       "98269               WSM              NaN                    NaT  \n",
       "98270               WSM              NaN                    NaT  \n",
       "98271               WSM              NaN                    NaT  \n",
       "98272               WSM              NaN                    NaT  \n",
       "98273               WSM              NaN                    NaT  \n",
       "98274               WSM              NaN                    NaT  \n",
       "98275               WSM              NaN                    NaT  \n",
       "98276               NaN              NaN                    NaT  \n",
       "98277               WSM              NaN                    NaT  \n",
       "98278               WSM              NaN                    NaT  \n",
       "98279               WSM              NaN                    NaT  \n",
       "98280               WSM              NaN                    NaT  \n",
       "98281               WSM              NaN                    NaT  \n",
       "98282               WSM              NaN                    NaT  \n",
       "98283               PAK              NaN                    NaT  \n",
       "98284               WSM              NaN                    NaT  \n",
       "98285               WSM              NaN                    NaT  \n",
       "98286               WSM              NaN                    NaT  \n",
       "98287               WSM              NaN                    NaT  \n",
       "98288               WSM              NaN                    NaT  \n",
       "98289               WSM              NaN                    NaT  \n",
       "98290               WSM              NaN                    NaT  \n",
       "98291               WSM              NaN                    NaT  \n",
       "98292               IND              NaN                    NaT  \n",
       "98293               WSM              NaN                    NaT  \n",
       "98294               WSM              NaN                    NaT  \n",
       "98295               WSM              NaN                    NaT  \n",
       "98296               NaN              NaN                    NaT  \n",
       "98297               WSM              NaN                    NaT  \n",
       "98298               WSM              NaN                    NaT  \n",
       "\n",
       "[98299 rows x 14 columns]"
      ]
     },
     "execution_count": 43,
     "metadata": {},
     "output_type": "execute_result"
    }
   ],
   "source": [
    "nodes_same_as = edges_completed[mask_same][['START_ID', 'END_ID']]\n",
    "\n",
    "\n",
    "start_nodes_same = nodes_.loc[nodes_.node_id.isin(nodes_same_as.START_ID)]\n",
    "end_nodes_same = nodes_.loc[nodes_.node_id.isin(nodes_same_as.END_ID)]\n",
    "\n",
    "same_nodes_merge = nodes_same_as.merge(start_nodes_same, how='inner', left_on='START_ID', right_on='node_id')\\\n",
    "                                .merge(end_nodes_same, how='inner', left_on='END_ID', right_on='node_id', suffixes=('_start','_end'))\\\n",
    "                                .drop(columns=['START_ID', 'END_ID'])\n",
    "\n",
    "same_nodes_merge.node_id_start = pd.to_numeric(same_nodes_merge.node_id_start, downcast='integer')\n",
    "same_nodes_merge.node_id_end = pd.to_numeric(same_nodes_merge.node_id_end, downcast='integer')\n",
    "\n",
    "same_nodes_merge"
   ]
  },
  {
   "cell_type": "markdown",
   "metadata": {},
   "source": [
    "We see they are indeed pretty much the same"
   ]
  },
  {
   "cell_type": "code",
   "execution_count": null,
   "metadata": {},
   "outputs": [
    {
     "name": "stdout",
     "output_type": "stream",
     "text": [
      "Node not to merge : \n",
      "1035 nodes that are similar but have not the same type\n",
      "275 nodes that are similar but have not the same country\n",
      "275 nodes that are similar but have not the same jurisdiction\n"
     ]
    }
   ],
   "source": [
    "same_nodes_diff_type_mask = same_nodes_merge.type_start != same_nodes_merge.type_end\n",
    "same_nodes_diff_type_count = len(same_nodes_merge[same_nodes_diff_type_mask])\n",
    "\n",
    "same_nodes_diff_country_mask = (same_nodes_merge.country_codes_start.notna())\\\n",
    "                            & (same_nodes_merge.country_codes_end.notna()) \\\n",
    "                            &(same_nodes_merge.country_codes_start != same_nodes_merge.country_codes_end)\n",
    "same_nodes_diff_country_count = len(same_nodes_merge[same_nodes_diff_country_mask])\n",
    "\n",
    "same_nodes_diff_jurisdiction_mask = (same_nodes_merge.jurisdiction_end.notna())\\\n",
    "                            & (same_nodes_merge.jurisdiction_start.notna()) \\\n",
    "                            &(same_nodes_merge.jurisdiction_end != same_nodes_merge.jurisdiction_start)\n",
    "same_nodes_diff_jurisdiction_count = len(same_nodes_merge[same_nodes_diff_country_mask])\n",
    "\n",
    "same_nodes_merge = same_nodes_merge[(~same_nodes_diff_type_mask) & \\\n",
    "                                    (~same_nodes_diff_country_mask) & \\\n",
    "                                    (~same_nodes_diff_jurisdiction_mask) ]\n",
    "\n",
    "print(\"Node not to merge : \")\n",
    "print(\"%d nodes that are similar but have not the same type\" % same_nodes_diff_type_count)\n",
    "print(\"%d nodes that are similar but have not the same country\" % same_nodes_diff_country_count)\n",
    "print(\"%d nodes that are similar but have not the same jurisdiction\" % same_nodes_diff_jurisdiction_count)"
   ]
  },
  {
   "cell_type": "markdown",
   "metadata": {},
   "source": [
    "The two other columns that can differ are source, name and the node_id:\n",
    "- For source we will arbitrarily take the start one, since we don't really care in source analyis in further work.\n",
    "- For the name we will also take the start one, usually differences are very small (caps, or missing letter...)\n",
    "- For the node_id we will also take the start one, and erase the end one in nodes. We will moreover replace its occurences in edges with the first one"
   ]
  },
  {
   "cell_type": "code",
   "execution_count": null,
   "metadata": {},
   "outputs": [],
   "source": [
    "same_nodes_merge['merge_date'] = same_nodes_merge[['incorporation_date_start','incorporation_date_end']].min(axis=1)\n",
    "nodes_replace = same_nodes_merge[['node_id_end', 'node_id_start','type_start', 'source_start', 'name_start',\\\n",
    "                         'country_codes_start', 'jurisdiction_start', 'merge_date']]\n",
    "nodes_replace.columns = ['old_node_id', 'node_id', 'type', 'source', 'name', 'country_codes', 'jurisdiction', 'incorporation_date']\n",
    "\n",
    "old_ids_to_replace = set(nodes_replace.old_node_id.unique())\n",
    "\n",
    "# Remove nodes that are both in old and new\n",
    "nodes_replace = nodes_replace[~nodes_replace['node_id'].isin(old_ids_to_replace)]\n",
    "\n",
    "ids_to_update = set(nodes_replace.node_id.unique())\n",
    "\n",
    "dict_old_new_id = dict()\n",
    "\n",
    "for index, row in nodes_replace.iterrows():\n",
    "    dict_old_new_id[row['old_node_id']] = row['node_id']"
   ]
  },
  {
   "cell_type": "markdown",
   "metadata": {},
   "source": [
    "### Remove same* edges from edges_completed"
   ]
  },
  {
   "cell_type": "code",
   "execution_count": null,
   "metadata": {},
   "outputs": [],
   "source": [
    "edges_completed = edges_completed[~mask_same]"
   ]
  },
  {
   "cell_type": "markdown",
   "metadata": {},
   "source": [
    "**Update the edges with the old nodes ids to new ids**"
   ]
  },
  {
   "cell_type": "code",
   "execution_count": null,
   "metadata": {},
   "outputs": [],
   "source": [
    "def map_old_new_default(x):\n",
    "    return dict_old_new_id.get(x, x)"
   ]
  },
  {
   "cell_type": "markdown",
   "metadata": {},
   "source": [
    "If we had merged the nodes, this would have changed the ID's of edges in the following way"
   ]
  },
  {
   "cell_type": "code",
   "execution_count": null,
   "metadata": {
    "scrolled": true
   },
   "outputs": [
    {
     "name": "stdout",
     "output_type": "stream",
     "text": [
      "1038864 START_ID no merge\n",
      "957879 START_ID if merge\n",
      "1144408 END_ID no merge\n",
      "1126889 END_ID if merge\n"
     ]
    }
   ],
   "source": [
    "print(len(edges_completed['START_ID'].unique()), 'START_ID no merge')\n",
    "print(len(edges_completed['START_ID'].map(map_old_new_default).unique()), 'START_ID if merge')\n",
    "print(len(edges_completed['END_ID'].unique()), 'END_ID no merge')\n",
    "print(len(edges_completed['END_ID'].map(map_old_new_default).unique()), 'END_ID if merge')"
   ]
  },
  {
   "cell_type": "markdown",
   "metadata": {},
   "source": [
    "*Uncomment to merge the similar nodes*"
   ]
  },
  {
   "cell_type": "markdown",
   "metadata": {},
   "source": [
    "**Update the edges with the merger value for new ids**\n",
    "\n",
    "*Uncomment to merge the similar nodes*"
   ]
  },
  {
   "cell_type": "code",
   "execution_count": null,
   "metadata": {},
   "outputs": [],
   "source": [
    "# Update when END_ID is in nodes to replace\n",
    "nodes_replace.columns = ['old_node_id', 'END_ID', 'end_type', 'source', 'name', 'end_country', 'end_jurisdiction', 'incorporation_date']\n",
    "#edges_completed.update(nodes_replace)\n",
    "\n",
    "# Update when START_ID is in nodes to replace\n",
    "nodes_replace.columns = ['old_node_id', 'START_ID', 'start_type', 'source', 'name', 'start_country', 'start_jurisdiction', 'incorporation_date']\n",
    "#edges_completed.update(nodes_replace)"
   ]
  },
  {
   "cell_type": "markdown",
   "metadata": {},
   "source": [
    "Now some edges are linking nodes to themselves, we notice most of those edges are intermediary_of type, meaning some nodes were the same people, but they were thaught to be intermediary of one another !!"
   ]
  },
  {
   "cell_type": "markdown",
   "metadata": {},
   "source": [
    "# 1) How does tax evasion evolve over time? Does the number of offshore societies increase?"
   ]
  },
  {
   "cell_type": "markdown",
   "metadata": {},
   "source": [
    "### How many entities are created each month?"
   ]
  },
  {
   "cell_type": "code",
   "execution_count": null,
   "metadata": {},
   "outputs": [],
   "source": [
    "entity_dates = nodes[nodes['incorporation_date'].notna()]\n",
    "entity_dates['incorporation_date'] = entity_dates['incorporation_date'].apply(lambda x: (x.month,x.year))\n",
    "creation_per_month = entity_dates.groupby('incorporation_date').size()\n",
    "total_per_month = creation_per_month.cumsum()"
   ]
  },
  {
   "cell_type": "code",
   "execution_count": null,
   "metadata": {},
   "outputs": [
    {
     "data": {
      "image/png": "[encoded data removed]",
      "text/plain": [
       "<Figure size 432x288 with 1 Axes>"
      ]
     },
     "metadata": {
      "needs_background": "light"
     },
     "output_type": "display_data"
    }
   ],
   "source": [
    "creation_per_month.index = pd.MultiIndex.from_tuples(creation_per_month.index, names=('month', 'year'))\n",
    "month_avg_month = creation_per_month.mean(level = 0)\n",
    "month_avg_month.plot.bar(colors=['lightcoral'])\n",
    "plt.title('Number of entities created each month')\n",
    "plt.xlabel('Month')\n",
    "plt.savefig('Plots/1.Months.png')"
   ]
  },
  {
   "cell_type": "markdown",
   "metadata": {},
   "source": [
    "### How many entities are there in total each month?"
   ]
  },
  {
   "cell_type": "code",
   "execution_count": null,
   "metadata": {},
   "outputs": [
    {
     "data": {
      "text/plain": [
       "<matplotlib.axes._subplots.AxesSubplot at 0xa36755668>"
      ]
     },
     "execution_count": 52,
     "metadata": {},
     "output_type": "execute_result"
    },
    {
     "data": {
      "image/png": "[encoded data removed]",
      "text/plain": [
       "<Figure size 1440x720 with 1 Axes>"
      ]
     },
     "metadata": {
      "needs_background": "light"
     },
     "output_type": "display_data"
    }
   ],
   "source": [
    "total_per_month.plot(figsize=(20,10))"
   ]
  },
  {
   "cell_type": "markdown",
   "metadata": {},
   "source": [
    "### How many entities are created each year?"
   ]
  },
  {
   "cell_type": "code",
   "execution_count": null,
   "metadata": {},
   "outputs": [],
   "source": [
    "entity_dates['incorporation_date'] = entity_dates['incorporation_date'].apply(lambda x: x[1])\n",
    "creation_per_year = entity_dates.groupby('incorporation_date').size()\n",
    "total_per_year = creation_per_year.cumsum()"
   ]
  },
  {
   "cell_type": "code",
   "execution_count": null,
   "metadata": {},
   "outputs": [
    {
     "data": {
      "text/plain": [
       "<matplotlib.axes._subplots.AxesSubplot at 0xa3950ecc0>"
      ]
     },
     "execution_count": 54,
     "metadata": {},
     "output_type": "execute_result"
    },
    {
     "data": {
      "image/png": "[encoded data removed]",
      "text/plain": [
       "<Figure size 1440x720 with 1 Axes>"
      ]
     },
     "metadata": {
      "needs_background": "light"
     },
     "output_type": "display_data"
    }
   ],
   "source": [
    "creation_per_year.plot(figsize=(20,10))"
   ]
  },
  {
   "cell_type": "markdown",
   "metadata": {},
   "source": [
    "### How many entities in total are there each year?"
   ]
  },
  {
   "cell_type": "code",
   "execution_count": null,
   "metadata": {
    "scrolled": false
   },
   "outputs": [
    {
     "data": {
      "text/plain": [
       "<matplotlib.axes._subplots.AxesSubplot at 0xa3c88f9e8>"
      ]
     },
     "execution_count": 55,
     "metadata": {},
     "output_type": "execute_result"
    },
    {
     "data": {
      "image/png": "[encoded data removed]",
      "text/plain": [
       "<Figure size 1440x720 with 1 Axes>"
      ]
     },
     "metadata": {
      "needs_background": "light"
     },
     "output_type": "display_data"
    }
   ],
   "source": [
    "total_per_year.plot(figsize=(20,10))"
   ]
  },
  {
   "cell_type": "markdown",
   "metadata": {},
   "source": [
    "### How many edges are created each month?"
   ]
  },
  {
   "cell_type": "code",
   "execution_count": null,
   "metadata": {},
   "outputs": [],
   "source": [
    "def fill_month_year(df):\n",
    "    temp_edges = df.to_dict()\n",
    "    for i in range(1960,2016):\n",
    "        for j in range(1,13):\n",
    "            if (j,i) not in temp_edges:\n",
    "                temp_edges[(j,i)] = 0\n",
    "    return pd.Series(temp_edges).sort_index()"
   ]
  },
  {
   "cell_type": "code",
   "execution_count": null,
   "metadata": {},
   "outputs": [
    {
     "name": "stdout",
     "output_type": "stream",
     "text": [
      "start_date\n",
      "(1, 1962)        1\n",
      "(1, 1965)        7\n",
      "(1, 1966)        4\n",
      "(1, 1967)        7\n",
      "(1, 1968)       18\n",
      "(1, 1969)       11\n",
      "(1, 1970)        3\n",
      "(1, 1971)        3\n",
      "(1, 1972)        6\n",
      "(1, 1973)        9\n",
      "(1, 1974)       12\n",
      "(1, 1975)       18\n",
      "(1, 1976)       18\n",
      "(1, 1977)       21\n",
      "(1, 1978)       29\n",
      "(1, 1979)       47\n",
      "(1, 1980)       69\n",
      "(1, 1981)       39\n",
      "(1, 1982)       57\n",
      "(1, 1983)       53\n",
      "(1, 1984)       94\n",
      "(1, 1985)      164\n",
      "(1, 1986)      188\n",
      "(1, 1987)      266\n",
      "(1, 1988)      248\n",
      "(1, 1989)      407\n",
      "(1, 1990)      499\n",
      "(1, 1991)      460\n",
      "(1, 1992)      551\n",
      "(1, 1993)      592\n",
      "              ... \n",
      "(12, 1986)    1792\n",
      "(12, 1987)     266\n",
      "(12, 1988)     311\n",
      "(12, 1989)     381\n",
      "(12, 1990)     485\n",
      "(12, 1991)     452\n",
      "(12, 1992)     743\n",
      "(12, 1993)     888\n",
      "(12, 1994)     981\n",
      "(12, 1995)    1314\n",
      "(12, 1996)    3915\n",
      "(12, 1997)    3766\n",
      "(12, 1998)    2391\n",
      "(12, 1999)    3234\n",
      "(12, 2000)    2915\n",
      "(12, 2001)    3221\n",
      "(12, 2002)    3512\n",
      "(12, 2003)    3934\n",
      "(12, 2004)    6280\n",
      "(12, 2005)    6085\n",
      "(12, 2006)    6478\n",
      "(12, 2007)    6285\n",
      "(12, 2008)    4131\n",
      "(12, 2009)    4732\n",
      "(12, 2010)    3292\n",
      "(12, 2011)    2883\n",
      "(12, 2012)    2885\n",
      "(12, 2013)    2879\n",
      "(12, 2014)    1886\n",
      "(12, 2015)    1141\n",
      "Length: 638, dtype: int64\n"
     ]
    },
    {
     "data": {
      "text/plain": [
       "<matplotlib.axes._subplots.AxesSubplot at 0xa3554ae48>"
      ]
     },
     "execution_count": 57,
     "metadata": {},
     "output_type": "execute_result"
    },
    {
     "data": {
      "image/png": "[encoded data removed]",
      "text/plain": [
       "<Figure size 1440x720 with 1 Axes>"
      ]
     },
     "metadata": {
      "needs_background": "light"
     },
     "output_type": "display_data"
    }
   ],
   "source": [
    "edges_date = edges_completed[edges_completed['start_date'].notna()]\n",
    "edges_date['start_date'] = edges_date['start_date'].apply(lambda x: (x.month,x.year))\n",
    "start_date  = edges_date.groupby('start_date').size()\n",
    "print(start_date)\n",
    "\n",
    "start_date = fill_month_year(start_date)\n",
    "start_date.plot(figsize=(20,10))"
   ]
  },
  {
   "cell_type": "markdown",
   "metadata": {},
   "source": [
    "### How many edges are deleted each month?"
   ]
  },
  {
   "cell_type": "code",
   "execution_count": null,
   "metadata": {},
   "outputs": [],
   "source": [
    "edges_date = edges_completed[edges_completed['end_date'].notna()]\n",
    "edges_date['end_date'] = edges_date['end_date'].apply(lambda x: (x.month,x.year))\n",
    "end_date = edges_date.groupby('end_date').size()\n",
    "end_date = fill_month_year(end_date)\n",
    "end_date.plot(figsize=(20,10))"
   ]
  },
  {
   "cell_type": "markdown",
   "metadata": {},
   "source": [
    "### How many edges in total are there each month?"
   ]
  },
  {
   "cell_type": "code",
   "execution_count": null,
   "metadata": {},
   "outputs": [],
   "source": [
    "creation_deletion = start_date.subtract(end_date)\n",
    "edges_month_sum = creation_deletion.cumsum()"
   ]
  },
  {
   "cell_type": "code",
   "execution_count": null,
   "metadata": {
    "scrolled": false
   },
   "outputs": [],
   "source": [
    "edges_month_sum.plot(figsize=(20,10))"
   ]
  },
  {
   "cell_type": "markdown",
   "metadata": {},
   "source": [
    "### How many edges are created each year?"
   ]
  },
  {
   "cell_type": "code",
   "execution_count": null,
   "metadata": {},
   "outputs": [],
   "source": [
    "def fill_year(df):\n",
    "    temp_edges = df.to_dict()\n",
    "    for i in range(1960,2016):\n",
    "        if i not in temp_edges:\n",
    "            temp_edges[i] = 0\n",
    "    return pd.Series(temp_edges).sort_index()"
   ]
  },
  {
   "cell_type": "code",
   "execution_count": null,
   "metadata": {},
   "outputs": [],
   "source": [
    "edges_date = edges_completed[edges_completed['start_date'].notna()]\n",
    "edges_date['start_date'] = edges_date['start_date'].apply(lambda x: x.year)\n",
    "start_date  = edges_date.groupby('start_date').size()\n",
    "start_date.plot(figsize=(20,10))"
   ]
  },
  {
   "cell_type": "markdown",
   "metadata": {},
   "source": [
    "### How many edges are deleted each year?"
   ]
  },
  {
   "cell_type": "code",
   "execution_count": null,
   "metadata": {},
   "outputs": [],
   "source": [
    "edges_date = edges_completed[edges_completed['end_date'].notna()]\n",
    "edges_date['end_date'] = edges_date['end_date'].apply(lambda x: x.year)\n",
    "end_date = edges_date.groupby('end_date').size()\n",
    "end_date = fill_year(end_date)\n",
    "end_date.plot(figsize=(20,10))"
   ]
  },
  {
   "cell_type": "markdown",
   "metadata": {},
   "source": [
    "### How many edges in total are there each year?"
   ]
  },
  {
   "cell_type": "code",
   "execution_count": null,
   "metadata": {},
   "outputs": [],
   "source": [
    "creation_deletion = start_date.subtract(end_date)\n",
    "edges_year_sum = creation_deletion.cumsum()"
   ]
  },
  {
   "cell_type": "code",
   "execution_count": null,
   "metadata": {},
   "outputs": [],
   "source": [
    "edges_year_sum.plot(figsize=(20,10))"
   ]
  },
  {
   "cell_type": "markdown",
   "metadata": {},
   "source": [
    "# Final Plots"
   ]
  },
  {
   "cell_type": "code",
   "execution_count": null,
   "metadata": {},
   "outputs": [],
   "source": [
    "creation_per_year.plot(color='gold')\n",
    "plt.title('Number of offshore societies created each year')\n",
    "plt.xlabel('Date (year)')\n",
    "\n",
    "plt.savefig('Plots/1-1.png')"
   ]
  },
  {
   "cell_type": "code",
   "execution_count": null,
   "metadata": {},
   "outputs": [],
   "source": [
    "fig, (ax1, ax2) = plt.subplots(1, 2, figsize=(16,5))\n",
    "\n",
    "start_date.plot(ax=ax1, color='lightskyblue')\n",
    "ax1.set_title('Number of connections made each year')\n",
    "ax1.set_xlabel('Date (year)')\n",
    "end_date.plot(ax=ax2, color='yellowgreen')\n",
    "ax2.set_title('Number of connections ended each year')\n",
    "ax2.set_xlabel('Date (year)')\n",
    "\n",
    "fig.savefig('Plots/1-2.png')"
   ]
  },
  {
   "cell_type": "code",
   "execution_count": null,
   "metadata": {},
   "outputs": [],
   "source": [
    "fig = edges_year_sum.plot(figsize=(10,5), color='lightcoral')\n",
    "fig.set_title('Evolution of the number of connections over the years')\n",
    "fig.set_xlabel('Date (year)')\n",
    "\n",
    "plt.savefig('Plots/1-3.png')"
   ]
  },
  {
   "cell_type": "markdown",
   "metadata": {},
   "source": [
    "# 2) Do people that are related to one offshore account tend to be related to many more? In other words, is it more likely to have another account once you already have one, than it is to have at least one account?"
   ]
  },
  {
   "cell_type": "markdown",
   "metadata": {},
   "source": [
    "Below are some custom made functions to make nice plots"
   ]
  },
  {
   "cell_type": "code",
   "execution_count": null,
   "metadata": {},
   "outputs": [],
   "source": [
    "threshold_pourcentage = 0.05\n",
    "\n",
    "def my_autopct(pct):\n",
    "    \"\"\"\n",
    "    Only print pct if it is more than threshold\n",
    "    \"\"\"\n",
    "    return ('%1.1f%%' % pct) if pct > 100*threshold_pourcentage else ''\n",
    "\n",
    "def my_labels(serie):\n",
    "    \"\"\"\n",
    "    Label is the jurisdiction name except if it's lower than threshold then it's ''\n",
    "    \"\"\"\n",
    "    total = serie.sum().values[0]\n",
    "    return [code_to_descriptions[row[0]] if row[1].values/total > 0.05 else '' for row in serie.iterrows()]"
   ]
  },
  {
   "cell_type": "code",
   "execution_count": null,
   "metadata": {},
   "outputs": [],
   "source": [
    "def histedges_equalN(x, nbin):\n",
    "    \"\"\"\n",
    "        To build bins of equal height (the length will vary)\n",
    "    \"\"\"\n",
    "    npt = len(x)\n",
    "    return np.interp(np.linspace(0, npt, nbin + 1),\n",
    "                     np.arange(npt),\n",
    "                     np.sort(x))"
   ]
  },
  {
   "cell_type": "markdown",
   "metadata": {},
   "source": [
    "We can see officer are related to entites are always the START_ID of the edge relationships. This is why to study them we filter on edge going from *officer* to *entity*."
   ]
  },
  {
   "cell_type": "code",
   "execution_count": null,
   "metadata": {},
   "outputs": [],
   "source": [
    "edges_officer_to_entity = edges_completed[mask_officer_to_entity]\n",
    "entities_per_officer = edges_officer_to_entity['START_ID'].value_counts()\n",
    "\n",
    "plt.xlim(1, 15)\n",
    "plt.ylim(0.7, 1)\n",
    "#plt.xscale('log')\n",
    "plt.hist(entities_per_officer, bins=[1, 2, 10, 100, 1000, 10000, 100000], cumulative = True, density=True)"
   ]
  },
  {
   "cell_type": "code",
   "execution_count": null,
   "metadata": {
    "scrolled": true
   },
   "outputs": [],
   "source": [
    "fig = plt.figure(figsize=(10,5))\n",
    "plt.hist(entities_per_officer.values, bins = 2000, log=True, color='lightcoral')\n",
    "plt.title('Number of officers connected to a certain number of offshore societies')\n",
    "plt.plot()\n",
    "plt.xlim(0,2000)\n",
    "plt.ylabel('# of officers(log scale)')\n",
    "plt.xlabel('# offshore societies')\n",
    "fig.savefig('Plots/2-1.png')"
   ]
  },
  {
   "cell_type": "code",
   "execution_count": null,
   "metadata": {},
   "outputs": [],
   "source": [
    "total_officers = len(entities_per_officer)\n",
    "\n",
    "pourcentage_one_account = len(entities_per_officer[entities_per_officer == 1]) / total_officers * 100\n",
    "pourcentage_two_account = len(entities_per_officer[entities_per_officer <= 2]) / total_officers * 100\n",
    "pourcentage_ten_account = len(entities_per_officer[entities_per_officer <= 10]) / total_officers * 100\n",
    "\n",
    "\n",
    "print(entities_per_officer.mean())\n",
    "print('%.2f%% of officer are related to only one account' % pourcentage_one_account)\n",
    "print('%.2f%% of officer are related to two or less account' % pourcentage_two_account)\n",
    "print('%.2f%% of officer are related to ten or less account' % pourcentage_ten_account)"
   ]
  },
  {
   "cell_type": "code",
   "execution_count": null,
   "metadata": {},
   "outputs": [],
   "source": [
    "cat0 = entities_per_officer.values\n",
    "cat1 = entities_per_officer[entities_per_officer == 1].values\n",
    "cat2 = entities_per_officer[(entities_per_officer > 1) & (entities_per_officer < 5)].values\n",
    "cat3 = entities_per_officer[(entities_per_officer >= 5) & (entities_per_officer < 10)].values\n",
    "cat4 = entities_per_officer[entities_per_officer >= 10].values\n",
    "\n",
    "categories = [len(cat1), len(cat2), len(cat3), len(cat4)]\n",
    "#fig, (ax1, ax2) = plt.subplots(2)\n",
    "fig, (ax1, ax2, ax3) = plt.subplots(1, 3, figsize=(17,5))\n",
    "#plt.subplots_adjust(wspace=0, hspace=0)\n",
    "#-----\n",
    "index = range(len(categories))\n",
    "bar_width = 0.35\n",
    "rects = ax1.bar(index, categories, color=['lightcoral','gold', 'lightskyblue', 'yellowgreen'])\n",
    "\n",
    "labels = categories\n",
    "\n",
    "low = min(categories)\n",
    "high = max(categories)\n",
    "\n",
    "for i in range(len(categories)):\n",
    "    ax1.text(x = index[i]-0.1, y = categories[i]+0.025*(high-low), s = labels[i], size = 9)\n",
    "\n",
    "ax1.set_title('Number of officers in each category')\n",
    "ax1.set_xticks(index)\n",
    "ax1.set_xticklabels(('1 entity', '2 to 4 entities', '5 to 9 entities', '> 10 entities'))\n",
    "ax1.set_ylim([0, high+0.1*(high-low)])\n",
    "\n",
    "#-------\n",
    "\n",
    "sizes = [len(cat1), len(cat2), len(cat3), len(cat4)]\n",
    "labels = '1 entity', '2 to 4 entities', '5 to 9 entities', '> 10 entities'\n",
    "colors = ['lightcoral','gold', 'lightskyblue', 'yellowgreen']\n",
    "ax2.pie(sizes, labels=labels, colors=colors, explode=(0.05, 0.05, 0.05, 0.05), autopct='%1.1f%%', shadow=True, startangle=140)\n",
    "#plt.axis('equal')\n",
    "#ax2.set_title('prop. # entities per officer', pad=10)\n",
    "\n",
    "#-------\n",
    "\n",
    "sizes = [len(cat2), len(cat3), len(cat4)]\n",
    "labels = '2 to 4 entities', '5 to 9 entities', '> 10 entities'\n",
    "colors = ['gold', 'lightskyblue', 'yellowgreen']\n",
    "#explode = (0.1, 0, 0, 0)\n",
    "ax3.pie(sizes, labels=labels, colors=colors, explode=(0.05, 0.05, 0.05), autopct='%1.1f%%', shadow=True, startangle=140)\n",
    "#plt.axis('equal')\n",
    "#ax3.set_title('prop. # entities per officer', pad=10)\n",
    "\n",
    "#-------\n",
    "#fig.set_size_inches(18, 5)\n",
    "#ax.set_xticklabels(('A', 'B', 'C', 'D'))\n",
    "plt.subplots_adjust(left=None, bottom=None, right=None, top=None, wspace=0, hspace=None)\n",
    "fig.savefig('Plots/2-2.png')"
   ]
  },
  {
   "cell_type": "markdown",
   "metadata": {},
   "source": [
    "# 3) Do many people share one offshore society or do they tend to have their own?"
   ]
  },
  {
   "cell_type": "markdown",
   "metadata": {},
   "source": [
    "To answer this question we build a dataframe of connected components to entity. For each entity we gather the IDs of the edges connected to it. Entity is always on the END part of the edge"
   ]
  },
  {
   "cell_type": "code",
   "execution_count": null,
   "metadata": {},
   "outputs": [],
   "source": [
    "nodes_entities = nodes_[nodes_.type == 'entity'].node_id.to_frame()\n",
    "\n",
    "entities_connections = nodes_entities.merge(edges_completed, how = 'left', left_on='node_id', right_on='END_ID')"
   ]
  },
  {
   "cell_type": "markdown",
   "metadata": {},
   "source": [
    "- *entities_connections* : contains all the edges that have an entity as an end_type\n",
    "- *connections_per_entity* : contains the number of connected nodes for each entity"
   ]
  },
  {
   "cell_type": "code",
   "execution_count": null,
   "metadata": {},
   "outputs": [],
   "source": [
    "connections_per_entity = entities_connections.node_id.value_counts()\n",
    "\n",
    "type_connected_entity = entities_connections.start_type.value_counts()"
   ]
  },
  {
   "cell_type": "markdown",
   "metadata": {},
   "source": [
    "There are a few entities connected to an entity. They are noted as registered address, and must be outliers"
   ]
  },
  {
   "cell_type": "code",
   "execution_count": null,
   "metadata": {
    "scrolled": true
   },
   "outputs": [],
   "source": [
    "fig = plt.figure(figsize=(10,5))\n",
    "plt.hist(connections_per_entity.values, bins = 500, log=True, color='lightcoral')\n",
    "plt.title('Number of societies having a certain number of connections')\n",
    "plt.xlabel('# connections')\n",
    "plt.ylabel('# of societies (log scale)')\n",
    "plt.xlim(0, 500)\n",
    "fig.savefig('Plots/3-1.png')"
   ]
  },
  {
   "cell_type": "code",
   "execution_count": null,
   "metadata": {},
   "outputs": [],
   "source": [
    "cat0 = connections_per_entity\n",
    "cat1 = connections_per_entity[connections_per_entity == 1]\n",
    "cat2 = connections_per_entity[(connections_per_entity > 1) & (connections_per_entity < 5)]\n",
    "cat3 = connections_per_entity[(connections_per_entity >= 5) & (connections_per_entity < 10)]\n",
    "cat4 = connections_per_entity[connections_per_entity >= 10]\n",
    "\n",
    "categories = [len(cat1), len(cat2), len(cat3), len(cat4)]\n",
    "#fig, (ax1, ax2) = plt.subplots(2)\n",
    "fig, (ax1, ax2) = plt.subplots(1, 2, figsize=(18,5))\n",
    "#-----\n",
    "index = range(len(categories))\n",
    "bar_width = 0.35\n",
    "rects = ax1.bar(index, categories, color=['lightcoral','gold', 'lightskyblue', 'yellowgreen'])\n",
    "\n",
    "labels = categories\n",
    "\n",
    "low = min(categories)\n",
    "high = max(categories)\n",
    "\n",
    "for i in range(len(categories)):\n",
    "    ax1.text(x = index[i]-0.1, y = categories[i]+0.025*(high-low), s = labels[i], size = 9)\n",
    "\n",
    "ax1.set_title('Number of societies in each category')\n",
    "ax1.set_xticks(index)\n",
    "ax1.set_xticklabels(('1 connection', '2 to 4 connections', '5 to 9 connections', '> 10 connections'))\n",
    "ax1.set_ylim([0, high+0.1*(high-low)])\n",
    "\n",
    "#-------\n",
    "\n",
    "sizes = [len(cat1), len(cat2), len(cat3), len(cat4)]\n",
    "labels = '1 connection', '2 to 4 connections', '5 to 9 connections', '> 10 connections'\n",
    "colors = ['lightcoral','gold', 'lightskyblue', 'yellowgreen']\n",
    "plt.pie(sizes, labels=labels, explode=(0.05, 0.05, 0.05, 0.05), colors=colors, autopct='%1.1f%%', shadow=True, startangle=140)\n",
    "plt.axis('equal')\n",
    "#ax2.set_title('prop. # connections per entity', pad=20)\n",
    "\n",
    "#-------\n",
    "fig.set_size_inches(18, 5)\n",
    "fig.savefig('Plots/3-2.png')\n",
    "#ax.set_xticklabels(('A', 'B', 'C', 'D'))"
   ]
  },
  {
   "cell_type": "markdown",
   "metadata": {},
   "source": [
    "# 4) How does the proportion of intermediaries depend on the category of company (number of connections) ?"
   ]
  },
  {
   "cell_type": "markdown",
   "metadata": {},
   "source": [
    "*count_type_entities* : maps each entity to the count of connections of each type (officer / intermediary)"
   ]
  },
  {
   "cell_type": "code",
   "execution_count": null,
   "metadata": {},
   "outputs": [],
   "source": [
    "map_columns = {'END_ID': 'entity' , 'start_type': 'type_connected' , 'START_ID':'id_connected'}\n",
    "\n",
    "count_type_entities = entities_connections[['END_ID', 'start_type', 'START_ID']]\\\n",
    "                                .rename(columns=map_columns)\\\n",
    "                                .groupby(['entity','type_connected']).count()\n",
    "\n",
    "\"\"\"\n",
    "count_type_entities = count_type_entities.join(count_type_entities.reset_index() \\\n",
    "                                              .drop(columns='type_connected') \\\n",
    "                                              .rename(columns={'count':'total'})\\\n",
    "                                              .groupby('entity').sum(), how='left')\n",
    "\n",
    "count_type_entities['proportion'] = count_type_entities['count']/count_type_entities['total']\n",
    "\n",
    "\"\"\" # Optional \n",
    "\n",
    "count_type_entities = count_type_entities.reset_index()\n",
    "count_type_entities = count_type_entities[count_type_entities['type_connected'] != 'entity']"
   ]
  },
  {
   "cell_type": "markdown",
   "metadata": {},
   "source": [
    "**Make a study on the different categories of companies based on the number of connections : [1], [2-4], [5-9], [10+]**"
   ]
  },
  {
   "cell_type": "code",
   "execution_count": null,
   "metadata": {
    "scrolled": true
   },
   "outputs": [],
   "source": [
    "all_distrib = count_type_entities.drop(columns='entity').groupby('type_connected').sum()\n",
    "\n",
    "cat1_distrib = count_type_entities[count_type_entities.entity.isin(cat1.index.values)]\\\n",
    ".drop(columns='entity').groupby('type_connected').sum()\n",
    "\n",
    "cat2_distrib = count_type_entities[count_type_entities.entity.isin(cat2.index.values)]\\\n",
    ".drop(columns='entity').groupby('type_connected').sum()\n",
    "\n",
    "cat3_distrib = count_type_entities[count_type_entities.entity.isin(cat3.index.values)]\\\n",
    ".drop(columns='entity').groupby('type_connected').sum()\n",
    "\n",
    "cat4_distrib = count_type_entities[count_type_entities.entity.isin(cat4.index.values)]\\\n",
    ".drop(columns='entity').groupby('type_connected').sum()"
   ]
  },
  {
   "cell_type": "code",
   "execution_count": null,
   "metadata": {},
   "outputs": [],
   "source": [
    "plt.figure()\n",
    "plt.title('All entities')\n",
    "plt.pie(all_distrib, labels=all_distrib.index.values, explode=(0.05, 0.05), colors=['lightcoral', 'gold'], autopct='%1.1f%%', startangle=140, shadow=True)\n",
    "plt.savefig(\"Q4_all_distrib\")\n",
    "\n",
    "plt.figure(figsize=(20, 10))\n",
    "plt.subplot(1, 4, 1)\n",
    "plt.title('Entities with 1 connection')\n",
    "plt.pie(cat1_distrib, labels=cat1_distrib.index.values, explode=(0.05, 0.05), colors=['lightcoral', 'gold'], autopct='%1.1f%%', startangle=140, shadow=True)\n",
    "\n",
    "plt.subplot(1, 4, 2)\n",
    "plt.title('Entites with 2 to 4 connections')\n",
    "plt.pie(cat2_distrib, labels=cat2_distrib.index.values, explode=(0.05, 0.05), colors=['lightcoral', 'gold'], autopct='%1.1f%%', startangle=140, shadow=True)\n",
    "\n",
    "plt.subplot(1, 4, 3)\n",
    "plt.title('Entites with 5 to 9 connections')\n",
    "plt.pie(cat3_distrib, labels=cat3_distrib.index.values, explode=(0.05, 0.05), colors=['lightcoral', 'gold'], autopct='%1.1f%%', startangle=140, shadow=True)\n",
    "\n",
    "plt.subplot(1, 4, 4)\n",
    "plt.title('Entites with >10 connections')\n",
    "plt.pie(cat4_distrib, labels=cat4_distrib.index.values, explode=(0.05, 0.05), colors=['lightcoral', 'gold'], autopct='%1.1f%%', startangle=140, shadow=True)\n",
    "plt.savefig(\"Q4_distribs\")\n",
    "plt.plot()"
   ]
  },
  {
   "cell_type": "markdown",
   "metadata": {},
   "source": [
    "Intermediary are essential for a offshore companies, they at least need one to communicate with. But having more people in the company doesn't mean you need more intermediaries to do the work. Intermediaries must therefore have a lot of work when connected to a big company."
   ]
  },
  {
   "cell_type": "code",
   "execution_count": null,
   "metadata": {},
   "outputs": [],
   "source": [
    "print(pourcentage(len(nodes_[nodes_.type == 'intermediary']) / len(nodes_)), \"of nodes are intermediary\")\n",
    "intermediaries_in_edges = edges_completed[(edges_completed.start_type == 'intermediary') | (edges_completed.end_type == 'intermediary')]\n",
    "print(pourcentage(len(intermediaries_in_edges)/len(edges_completed)), 'of edges have an intermediary in them')"
   ]
  },
  {
   "cell_type": "markdown",
   "metadata": {},
   "source": [
    "It is now interesting to see if intermediaries connected to big companies are connected to less companies in number. In other words : if you're an intermediary of a big company do you only take care of this one ?"
   ]
  },
  {
   "cell_type": "code",
   "execution_count": null,
   "metadata": {},
   "outputs": [],
   "source": [
    "q4 = entities_connections[['END_ID', 'start_type', 'START_ID']].rename(columns=map_columns)\n",
    "q4 = q4[q4.type_connected != 'entity']\n",
    "\n",
    "q4 = q4.join(q4.groupby('entity').count().id_connected, on = 'entity', rsuffix= '_count')\n",
    "\n",
    "mask_int_q4 = (q4.type_connected == 'intermediary')\n",
    "\n",
    "cat1_intermediaries = q4[(q4.id_connected_count == 1) & mask_int_q4].id_connected\n",
    "cat2_intermediaries = q4[(q4.id_connected_count >= 2) & (q4.id_connected_count <= 4) & mask_int_q4].id_connected\n",
    "cat3_intermediaries = q4[(q4.id_connected_count >= 5) & (q4.id_connected_count <= 9) & mask_int_q4].id_connected\n",
    "cat4_intermediaries = q4[(q4.id_connected_count >= 10) & mask_int_q4].id_connected\n",
    "\n",
    "entities_per_int = q4[mask_int_q4][['id_connected', 'entity']].groupby('id_connected').count().reset_index()\n",
    "\n",
    "cat1_intermediaries_count = entities_per_int[entities_per_int.id_connected.isin(cat1_intermediaries)]\n",
    "cat2_intermediaries_count = entities_per_int[entities_per_int.id_connected.isin(cat2_intermediaries)]\n",
    "cat3_intermediaries_count = entities_per_int[entities_per_int.id_connected.isin(cat3_intermediaries)]\n",
    "cat4_intermediaries_count = entities_per_int[entities_per_int.id_connected.isin(cat4_intermediaries)]"
   ]
  },
  {
   "cell_type": "code",
   "execution_count": null,
   "metadata": {},
   "outputs": [],
   "source": [
    "print(\"On average an intermediary is connected to %.1f entities\" % entities_per_int['entity'].mean())\n",
    "print(\"On average an intermediary that is at least connected to an entity of category :\")\n",
    "print(\"- [1] is connected tois connected to %.1f entities\" % cat1_intermediaries_count['entity'].mean())\n",
    "print(\"- [2-4] is connected to %.1f entities\" % cat2_intermediaries_count['entity'].mean())\n",
    "print(\"- [5-9] is connected to %.1f entities\" % cat3_intermediaries_count['entity'].mean())\n",
    "print(\"- [10+] is connected to %.1f entities\" % cat4_intermediaries_count['entity'].mean())"
   ]
  },
  {
   "cell_type": "code",
   "execution_count": null,
   "metadata": {},
   "outputs": [],
   "source": [
    "print(\"The median number of connection per intermediary is %.1f\" % entities_per_int['entity'].mean())\n",
    "print(\"The median number of an intermediary at least connected to an entity of category :\")\n",
    "print(\"- [1] is %.1f\" % cat1_intermediaries_count['entity'].median())\n",
    "print(\"- [2-4] is %.1f\" % cat2_intermediaries_count['entity'].median())\n",
    "print(\"- [5-9] is %.1f\" % cat3_intermediaries_count['entity'].median())\n",
    "print(\"- [10+] is %.1f\" % cat4_intermediaries_count['entity'].median())"
   ]
  },
  {
   "cell_type": "code",
   "execution_count": null,
   "metadata": {},
   "outputs": [],
   "source": [
    "labels = ['All', 'Cat1', 'Cat2', 'Cat3', 'Cat4']\n",
    "data_boxplot = [entities_per_int['entity'], cat1_intermediaries_count['entity'],\\\n",
    "                cat2_intermediaries_count['entity'],\\\n",
    "                cat3_intermediaries_count['entity'], cat4_intermediaries_count['entity']]\n",
    "plt.boxplot(data_boxplot, labels=labels, sym='', showmeans=True, meanline=True)\n",
    "plt.ylim(1, 83)\n",
    "plt.plot()"
   ]
  },
  {
   "cell_type": "markdown",
   "metadata": {},
   "source": [
    "Clearly the mean is being pulled very high because of some extreme values, let's look at them and see statistics without them"
   ]
  },
  {
   "cell_type": "code",
   "execution_count": null,
   "metadata": {},
   "outputs": [],
   "source": [
    "i=0\n",
    "upper_bound = 2000\n",
    "for v in data_boxplot[4]:\n",
    "    if v > upper_bound:\n",
    "        i+=1\n",
    "print(i, \"values are higher than\", upper_bound)"
   ]
  },
  {
   "cell_type": "code",
   "execution_count": null,
   "metadata": {},
   "outputs": [],
   "source": [
    "data_boxplot_cleaned = []\n",
    "for array_values in data_boxplot:\n",
    "    data_boxplot_cleaned.append(list())\n",
    "    for v in array_values:\n",
    "        if v <= upper_bound:\n",
    "            data_boxplot_cleaned[-1].append(v)"
   ]
  },
  {
   "cell_type": "code",
   "execution_count": null,
   "metadata": {},
   "outputs": [],
   "source": [
    "plt.boxplot(data_boxplot_cleaned, labels=labels, sym='', showmeans=True,meanline=True)\n",
    "plt.ylim(1, 50)\n",
    "plt.title('Number of connections per intermediary depending on category')\n",
    "plt.savefig('Q4_boxplot')\n",
    "plt.plot()"
   ]
  },
  {
   "cell_type": "markdown",
   "metadata": {},
   "source": [
    "**Note :** It might sound weird that each one of these averages are all higher individually than the global average.\n",
    "\n",
    "But it actually tells us that intermediaries with many connections have clients (entities) in all of the categories ! So this actually means that the more connections you have as an intermediary, the more diverse they will be.\n",
    "\n",
    "This is the opposite of what we predicted, the bigger entities you intermediate for, the more entities you are connected to. This probably means that some people or groups of people are notorious intermediaries and are therefore working for many entities."
   ]
  },
  {
   "cell_type": "markdown",
   "metadata": {},
   "source": [
    "# 5) Is there a correlation between the location of the people and the location of their offshore society?"
   ]
  },
  {
   "cell_type": "markdown",
   "metadata": {},
   "source": [
    "## Flatten country codes with multiple countries separated by a coma\n",
    "\n",
    "Some nodes are related to many countries. This can be the case of big multi-national companies, and their code is written in the form \"AAA;BBB;...;ZZZ\". Here we flatten these values, by create one row for each nationality of each node. This decision is arguable, since it gives the same weight to 10 different nodes as it gives for one node with 10 different nationalities. But since we do this for multi-national companies, we consider they can have many subsidiaries and this is relevant "
   ]
  },
  {
   "cell_type": "code",
   "execution_count": null,
   "metadata": {
    "scrolled": true
   },
   "outputs": [],
   "source": [
    "edges_diff_start_end_address = edges_completed[mask_country_notna & mask_diff_start_end_address]\\\n",
    ".end_type.value_counts()"
   ]
  },
  {
   "cell_type": "code",
   "execution_count": null,
   "metadata": {},
   "outputs": [],
   "source": [
    "edges_q5 = edges_completed[mask_officer_to_entity & mask_start_loc_notna & mask_end_loc_notna][['start_country', 'end_jurisdiction']]\n",
    "edges_q5['sum'] = 1\n",
    "edges_q5.start_country = edges_q5.start_country.str.split(';')"
   ]
  },
  {
   "cell_type": "code",
   "execution_count": null,
   "metadata": {},
   "outputs": [],
   "source": [
    "flattened_country = []\n",
    "\n",
    "for index, row in edges_q5[(edges_q5.start_country.map(len) > 1)].iterrows():\n",
    "    for country in row['start_country']:\n",
    "        modified_row = row.copy()\n",
    "        modified_row['start_country'] = country #+ '_GRP'\n",
    "        flattened_country.append(modified_row)\n",
    "\n",
    "edges_q5_flattened = edges_q5[edges_q5['start_country'].map(len) == 1]\n",
    "edges_q5_flattened.start_country = edges_q5_flattened.start_country.apply(lambda arr: arr[0])\n",
    "edges_q5_flattened = edges_q5_flattened.append(flattened_country)\n",
    "      \n",
    "print(len(edges_q5), \"edges when you don't flatten the country codes\")\n",
    "print(len(edges_q5_flattened), \"edges when you flatten the country codes\")"
   ]
  },
  {
   "cell_type": "code",
   "execution_count": null,
   "metadata": {},
   "outputs": [],
   "source": [
    "edges_q5_flattened"
   ]
  },
  {
   "cell_type": "code",
   "execution_count": null,
   "metadata": {},
   "outputs": [],
   "source": [
    "q5_distrib = edges_q5_flattened.groupby(['start_country', 'end_jurisdiction']).sum()"
   ]
  },
  {
   "cell_type": "markdown",
   "metadata": {},
   "source": [
    "## Q5 Pie printing"
   ]
  },
  {
   "cell_type": "code",
   "execution_count": null,
   "metadata": {},
   "outputs": [],
   "source": [
    "threshold_pourcentage = 0.05\n",
    "\n",
    "def my_autopct(pct):\n",
    "    \"\"\"\n",
    "    Only print pct if it is more than threshold\n",
    "    \"\"\"\n",
    "    return ('%1.1f%%' % pct) if pct > 100*threshold_pourcentage else ''\n",
    "\n",
    "def my_labels(serie):\n",
    "    \"\"\"\n",
    "    Label is the jurisdiction name except if it's lower than threshold then it's ''\n",
    "    \"\"\"\n",
    "    total = serie.sum().values[0]\n",
    "    return [row[0] if row[1].values/total > 0.05 else '' for row in serie.iterrows()]"
   ]
  },
  {
   "cell_type": "code",
   "execution_count": null,
   "metadata": {},
   "outputs": [],
   "source": [
    "q5_distrib"
   ]
  },
  {
   "cell_type": "code",
   "execution_count": null,
   "metadata": {},
   "outputs": [],
   "source": [
    "one_pie = q5_distrib.xs('USA', level='start_country').sort_values('sum', ascending = False)\n",
    "labels = my_labels(one_pie)\n",
    "\n",
    "plt.pie(one_pie, radius = 2, labels=labels, autopct=my_autopct, startangle=90, shadow = True)\n",
    "plt.show()"
   ]
  },
  {
   "cell_type": "markdown",
   "metadata": {},
   "source": [
    "## Q5 Scatter"
   ]
  },
  {
   "cell_type": "code",
   "execution_count": null,
   "metadata": {},
   "outputs": [],
   "source": [
    "q5_distrib_country = q5_distrib.groupby('start_country').sum()\n",
    "q5_distrib_country = q5_distrib.join(q5_distrib_country, how = 'left', on = 'start_country', rsuffix = '_country')\n",
    "q5_distrib_country['pourcentage'] = q5_distrib_country['sum']/q5_distrib_country['sum_country']\n",
    "q5_distrib_country.groupby('start_country').count()"
   ]
  },
  {
   "cell_type": "code",
   "execution_count": null,
   "metadata": {},
   "outputs": [],
   "source": [
    "threshold_scatter_pourc = 0.1\n",
    "threshold_scatter_countries = 10000\n",
    "\n",
    "threshold_mask = (q5_distrib_country['pourcentage'] > threshold_scatter_pourc) \\\n",
    "& (q5_distrib_country['sum_country'] > threshold_scatter_countries)\n",
    "\n",
    "q5_thresholded = q5_distrib_country[threshold_mask]\n",
    "\n",
    "countries_x_scatter =  [val[0] for val in q5_thresholded.index.values]\n",
    "jurisdictions_y_scatter =  [val[1] for val in q5_thresholded.index.values]\n",
    "scalars_scatter = q5_thresholded['pourcentage'].values * 100\n",
    "\n",
    "plt.scatter(countries_x_scatter, jurisdictions_y_scatter, scalars_scatter)\n",
    "plt.show()"
   ]
  },
  {
   "cell_type": "markdown",
   "metadata": {},
   "source": [
    "We set thresholds to only print relevant data and not put too much noise in the graphs"
   ]
  },
  {
   "cell_type": "code",
   "execution_count": null,
   "metadata": {},
   "outputs": [],
   "source": [
    "threshold_scatter_pourc = 0.05\n",
    "threshold_scatter_countries = 10000\n",
    "\n",
    "threshold_mask = (q5_distrib_country['pourcentage'] > threshold_scatter_pourc) \\\n",
    "& (q5_distrib_country['sum_country'] > threshold_scatter_countries)\n",
    "\n",
    "q5_thresholded = q5_distrib_country[threshold_mask]\n",
    "\n",
    "countries_x_scatter =  [val[0] for val in q5_thresholded.index.values]\n",
    "jurisdictions_y_scatter =  [code_to_descriptions[val[1]] for val in q5_thresholded.index.values]\n",
    "scalars_scatter = q5_thresholded['pourcentage'].values * 100\n",
    "\n",
    "plt.figure(figsize=(15,6))\n",
    "plt.scatter(countries_x_scatter, jurisdictions_y_scatter, scalars_scatter, color=['lightcoral'])\n",
    "plt.title('Correlation between the location of the people and the location of their offshore society')\n",
    "plt.xlabel('Origin of the Officer')\n",
    "plt.ylabel('Location of the Offshore Society')\n",
    "plt.xticks(rotation='vertical')\n",
    "plt.savefig('Plots/5-1.png')\n",
    "plt.show()"
   ]
  },
  {
   "cell_type": "markdown",
   "metadata": {},
   "source": [
    "We can clearly see Malta and the British Virgin Islands as constant prefered choice whatever the country of origin of the officer."
   ]
  },
  {
   "cell_type": "markdown",
   "metadata": {},
   "source": [
    "### UP cell : now plot distribution for each country and see if there is always a leader, what is the variance, %of total for top1, BUILD MAP Where you can click on a country and see the distribution"
   ]
  },
  {
   "cell_type": "code",
   "execution_count": null,
   "metadata": {},
   "outputs": [],
   "source": [
    "edges_completed[(edges_completed['start_jurisdiction'] != edges_completed['end_jurisdiction']) \\\n",
    "               & (edges_completed['start_jurisdiction'].notna()) & ((edges_completed['end_jurisdiction'].notna()))]\\\n",
    ".TYPE.value_counts()"
   ]
  },
  {
   "cell_type": "markdown",
   "metadata": {},
   "source": [
    "## Plot map for 10 biggest countries¶"
   ]
  },
  {
   "cell_type": "code",
   "execution_count": null,
   "metadata": {},
   "outputs": [],
   "source": [
    "def compute_center(code, coord):\n",
    "    if code == 'USA':\n",
    "        return 38.36320700, -101.989278\n",
    "    if code == 'CAN':\n",
    "        return 56.09433049, -101.989278\n",
    "    if code == 'RUS':\n",
    "        return 63.884226, 92.019764\n",
    "    if code == 'CHN':\n",
    "        return 33.477272, 102.210619\n",
    "    lat = 0\n",
    "    lon = 0\n",
    "    count = 0\n",
    "    for elem in coord:\n",
    "        lat += elem[0]\n",
    "        lon += elem[1]\n",
    "        count += 1\n",
    "    return [lon/count, lat/count]"
   ]
  },
  {
   "cell_type": "code",
   "execution_count": null,
   "metadata": {},
   "outputs": [],
   "source": [
    "world_data = json.load(open('world.json')) \n",
    "for i in range(len(world_data['features'])):\n",
    "    code = world_data['features'][i]['id']\n",
    "    name = world_data['features'][i]['properties']['name']\n",
    "    if name in descriptions_to_code:\n",
    "        if code != descriptions_to_code[name]:\n",
    "            world_data['features'][i]['id'] = descriptions_to_code[name]\n",
    "\n",
    "with open(\"world.json\", \"w\") as jsonFile:\n",
    "    json.dump(world_data, jsonFile, indent=4)"
   ]
  },
  {
   "cell_type": "code",
   "execution_count": null,
   "metadata": {
    "scrolled": false
   },
   "outputs": [],
   "source": [
    "world_data = json.load(open('world.json')) \n",
    "code_to_coord = {}\n",
    "for i in range(len(world_data['features'])):\n",
    "    code = world_data['features'][i]['id']\n",
    "    coord = world_data['features'][i]['geometry']['coordinates'][0][0]\n",
    "    code_to_coord[code] = compute_center(code, coord)"
   ]
  },
  {
   "cell_type": "code",
   "execution_count": null,
   "metadata": {},
   "outputs": [],
   "source": [
    "top_countries = edges_q5_flattened[edges_q5_flattened['start_country'].apply(lambda x: 'GRP' not in x)].groupby('start_country').size().sort_values(ascending = False)\n",
    "top10 = top_countries[0:11]\n",
    "top10 = top10.drop('XXX')"
   ]
  },
  {
   "cell_type": "code",
   "execution_count": null,
   "metadata": {},
   "outputs": [],
   "source": [
    "def percentage(df):\n",
    "    m = df['sum'].sum()\n",
    "    df['sum'] = df['sum'].apply(lambda x: x*100 / m)\n",
    "    return df"
   ]
  },
  {
   "cell_type": "code",
   "execution_count": null,
   "metadata": {},
   "outputs": [],
   "source": [
    "def stylefunction(feature,df):\n",
    "    return {\n",
    "        'fillOpacity': 0,\n",
    "        'weight': 0,\n",
    "        'fillColor': 'blue'\n",
    "    }"
   ]
  },
  {
   "cell_type": "code",
   "execution_count": null,
   "metadata": {},
   "outputs": [],
   "source": [
    "world = folium.Map([2,30], tiles='OpenStreetMap', zoom_start = 2.3)\n",
    "world_data = json.load(open('world.json'))  \n",
    "list_countries = top10.index\n",
    "for code in code_to_coord:\n",
    "    if code in list_countries and code in code_to_descriptions:\n",
    "        coord = code_to_coord[code]\n",
    "        df = percentage(q5_distrib.xs(code, level='start_country'))\n",
    "        arrows = {}\n",
    "        weights = {}\n",
    "        for c in df.index:\n",
    "            temp_c = c\n",
    "            if c in ['NEV','US','WYO']:\n",
    "                temp_c = 'USA'\n",
    "            if code != c:\n",
    "                if c in code_to_coord:\n",
    "                    arrows[temp_c] = code_to_coord[temp_c]\n",
    "                    weights[temp_c] = min(10,df.xs(c)['sum']/2)\n",
    "\n",
    "        marker = folium.Marker(location=coord, icon = folium.Icon(color='red'), popup=code_to_descriptions[code])\n",
    "        layer = folium.GeoJson(world_data,\n",
    "                   name=code_to_descriptions[code],\n",
    "                   style_function = lambda x : stylefunction(x,df.to_dict()['sum'])\n",
    "                      ).add_child(marker)\n",
    "\n",
    "        for c in arrows:\n",
    "            if c in code_to_descriptions:\n",
    "                line = folium.PolyLine([coord,arrows[c]],weight=max(0.5,weights[c]))\n",
    "                marker_end = folium.Marker(location=arrows[c], popup=code_to_descriptions[c])\n",
    "                layer.add_child(marker_end)\n",
    "                layer.add_child(line)\n",
    "\n",
    "        layer.add_to(world)\n",
    "    \n",
    "folium.LayerControl().add_to(world)\n",
    "world.save('biggest.html')\n",
    "world"
   ]
  },
  {
   "cell_type": "markdown",
   "metadata": {},
   "source": [
    "## Plot map with markers"
   ]
  },
  {
   "cell_type": "code",
   "execution_count": null,
   "metadata": {},
   "outputs": [],
   "source": [
    "def compute_pie_chart(code):\n",
    "    one_pie = q5_distrib.xs(code, level='start_country').sort_values('sum', ascending = False)\n",
    "    labels = my_labels(one_pie)\n",
    "    fig = plt.figure(figsize=(5,3))\n",
    "    colors = ['lightcoral','gold', 'lightskyblue', 'yellowgreen', 'violet', 'lightgray', 'palegreen', 'pink']\n",
    "    plt.pie(one_pie, labels=labels, colors=colors, autopct=my_autopct, startangle=90, shadow = True)\n",
    "    plt.title(code_to_descriptions[code], fontsize=12, fontweight=\"bold\", pad=5)\n",
    "    png = 'pie_{}.png'.format(code)\n",
    "    plt.savefig('figures/'+png, dpi=75)\n",
    "    plt.close(fig)"
   ]
  },
  {
   "cell_type": "code",
   "execution_count": null,
   "metadata": {},
   "outputs": [],
   "source": [
    "top100 = top_countries[0:101]\n",
    "top100 = top100.drop('XXX')"
   ]
  },
  {
   "cell_type": "code",
   "execution_count": null,
   "metadata": {},
   "outputs": [],
   "source": [
    "world_data = json.load(open('world.json'))\n",
    "\n",
    "world = folium.Map([2,30], tiles='OpenStreetMap', zoom_start = 2.3)\n",
    "\n",
    "for i in range(len(world_data['features'])):\n",
    "    code = world_data['features'][i]['id']\n",
    "    coord = world_data['features'][i]['geometry']['coordinates'][0][0]\n",
    "    if code in top100:\n",
    "        compute_pie_chart(code)\n",
    "        \n",
    "        png = 'figures/pie_{}.png'.format(code)\n",
    "        encoded = base64.b64encode(open(png, 'rb').read()).decode()\n",
    "    \n",
    "        html = '<img src=\"data:image/png;base64,{}\">'.format\n",
    "        iframe = IFrame(html(encoded), width=400, height=200)\n",
    "        popup = folium.Popup(iframe, max_width=2650)\n",
    "    \n",
    "        folium.Marker(location=compute_center(code,coord), popup=popup).add_to(world)\n",
    "\n",
    "world.save('markers.html')\n",
    "world"
   ]
  },
  {
   "cell_type": "code",
   "execution_count": null,
   "metadata": {
    "scrolled": true
   },
   "outputs": [],
   "source": [
    "dis = nodes_.type.value_counts()\n",
    "fig = plt.figure(figsize=(5,5))\n",
    "plt.pie(dis, labels=dis.index, explode=(0.05, 0.05, 0.05, 0.05), colors=['lightcoral', 'gold', 'lightskyblue', 'yellowgreen'], autopct='%1.1f%%', startangle=140, shadow=True)\n",
    "plt.title('Nodes\\' types distribution', pad=10)\n",
    "plt.savefig('Plots/0.png')"
   ]
  },
  {
   "cell_type": "code",
   "execution_count": null,
   "metadata": {
    "scrolled": false
   },
   "outputs": [],
   "source": [
    "code_to_descriptions"
   ]
  },
  {
   "cell_type": "code",
   "execution_count": null,
   "metadata": {},
   "outputs": [],
   "source": []
  }
 ],
 "metadata": {
  "kernelspec": {
   "display_name": "Python 3",
   "language": "python",
   "name": "python3"
  },
  "language_info": {
   "codemirror_mode": {
    "name": "ipython",
    "version": 3
   },
   "file_extension": ".py",
   "mimetype": "text/x-python",
   "name": "python",
   "nbconvert_exporter": "python",
   "pygments_lexer": "ipython3",
   "version": "3.6.6"
  }
 },
 "nbformat": 4,
 "nbformat_minor": 2
}
